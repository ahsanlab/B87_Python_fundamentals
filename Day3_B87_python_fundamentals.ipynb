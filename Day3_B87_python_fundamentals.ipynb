{
 "cells": [
  {
   "cell_type": "code",
   "execution_count": null,
   "id": "3f6d8041-f3f3-4238-960f-aa33291aca53",
   "metadata": {},
   "outputs": [],
   "source": [
    "#introduction to f string"
   ]
  },
  {
   "cell_type": "code",
   "execution_count": null,
   "id": "449dcabd-eb60-4bbc-9ae6-2bd4a261039f",
   "metadata": {},
   "outputs": [],
   "source": []
  },
  {
   "cell_type": "code",
   "execution_count": 10,
   "id": "1344f2fc-31a8-4f2e-b0c4-f69f72a95842",
   "metadata": {},
   "outputs": [
    {
     "name": "stdout",
     "output_type": "stream",
     "text": [
      "mohammad farooque ahsan\n"
     ]
    }
   ],
   "source": [
    "firstname ='mohammad'\n",
    "middlename = 'farooque'\n",
    "lastname = 'ahsan'\n",
    "fullname=f\"{firstname} {middlename} {lastname}\"\n",
    "print(fullname)"
   ]
  },
  {
   "cell_type": "code",
   "execution_count": 11,
   "id": "53a82332-4431-4ce0-853b-240d05f5f004",
   "metadata": {},
   "outputs": [
    {
     "name": "stdout",
     "output_type": "stream",
     "text": [
      "Mohammad Farooque Ahsan\n"
     ]
    }
   ],
   "source": [
    "print(fullname.title())"
   ]
  },
  {
   "cell_type": "code",
   "execution_count": null,
   "id": "8c97b82a-41dc-4a6a-94ff-b77c07860b7a",
   "metadata": {},
   "outputs": [],
   "source": [
    "# f\"custom message {place_holder1} {place_holder2}....{placeholder_n}\""
   ]
  },
  {
   "cell_type": "code",
   "execution_count": 12,
   "id": "b256dbaa-c2e3-4f50-bde9-359b2f5b5d50",
   "metadata": {},
   "outputs": [
    {
     "name": "stdout",
     "output_type": "stream",
     "text": [
      "keep up the good work, Mohammad Farooque Ahsan\n"
     ]
    }
   ],
   "source": [
    "message = f\"keep up the good work, {fullname.title()}\"\n",
    "print(message)"
   ]
  },
  {
   "cell_type": "code",
   "execution_count": 13,
   "id": "d59e6dc6-7191-4f05-84b3-2c5ce6702485",
   "metadata": {},
   "outputs": [
    {
     "name": "stdout",
     "output_type": "stream",
     "text": [
      "favourite_language:PythonCJavaC++SwiftJavaScript\n"
     ]
    }
   ],
   "source": [
    "print(\"favourite_language:PythonCJavaC++SwiftJavaScript\")"
   ]
  },
  {
   "cell_type": "code",
   "execution_count": 14,
   "id": "0028a11c-e223-42f7-ab50-7bd39a035522",
   "metadata": {},
   "outputs": [
    {
     "name": "stdout",
     "output_type": "stream",
     "text": [
      "favourite_language:\n",
      "Python\n",
      "C\n",
      "Java\n",
      "C++\n",
      "Swift\n",
      "JavaScript\n"
     ]
    }
   ],
   "source": [
    "print(\"favourite_language:\\nPython\\nC\\nJava\\nC++\\nSwift\\nJavaScript\")"
   ]
  },
  {
   "cell_type": "code",
   "execution_count": 15,
   "id": "08832a40-e63b-4a6b-ae48-88e184eb0e7e",
   "metadata": {},
   "outputs": [
    {
     "name": "stdout",
     "output_type": "stream",
     "text": [
      "favourite_language:\n",
      "\tPython\n",
      "\tC\n",
      "\tJava\n",
      "\tC++\n",
      "\tSwift\n",
      "\tJavaScript\n"
     ]
    }
   ],
   "source": [
    "print(\"favourite_language:\\n\\tPython\\n\\tC\\n\\tJava\\n\\tC++\\n\\tSwift\\n\\tJavaScript\")"
   ]
  },
  {
   "cell_type": "code",
   "execution_count": null,
   "id": "570f7f50-72ba-4c67-a2a8-02a0da35761b",
   "metadata": {},
   "outputs": [],
   "source": [
    "# Removing whitespaces from the strings:"
   ]
  },
  {
   "cell_type": "code",
   "execution_count": 16,
   "id": "68a8898c-ad13-4a12-88e9-56d68edb942d",
   "metadata": {},
   "outputs": [
    {
     "name": "stdout",
     "output_type": "stream",
     "text": [
      " python\n"
     ]
    }
   ],
   "source": [
    "name =\" python\"\n",
    "print(name)"
   ]
  },
  {
   "cell_type": "code",
   "execution_count": 17,
   "id": "cd0957aa-4689-4f2c-b153-afbcf7f90c43",
   "metadata": {},
   "outputs": [
    {
     "name": "stdout",
     "output_type": "stream",
     "text": [
      "python\n"
     ]
    }
   ],
   "source": [
    "name2 = \"python\"\n",
    "print(name2)"
   ]
  },
  {
   "cell_type": "code",
   "execution_count": 18,
   "id": "618d28de-5223-42fe-abbc-02c7e007382a",
   "metadata": {},
   "outputs": [
    {
     "name": "stdout",
     "output_type": "stream",
     "text": [
      "python \n"
     ]
    }
   ],
   "source": [
    "name3 = \"python \"\n",
    "print(name3)"
   ]
  },
  {
   "cell_type": "code",
   "execution_count": 19,
   "id": "f1ed4109-1198-46f6-bb85-913dd7286ff5",
   "metadata": {},
   "outputs": [
    {
     "data": {
      "text/plain": [
       "'python'"
      ]
     },
     "execution_count": 19,
     "metadata": {},
     "output_type": "execute_result"
    }
   ],
   "source": [
    "name.lstrip()"
   ]
  },
  {
   "cell_type": "code",
   "execution_count": 20,
   "id": "91232560-aad6-4705-a6c6-cdddbdc73618",
   "metadata": {},
   "outputs": [
    {
     "data": {
      "text/plain": [
       "'python'"
      ]
     },
     "execution_count": 20,
     "metadata": {},
     "output_type": "execute_result"
    }
   ],
   "source": [
    "name3.rstrip()"
   ]
  },
  {
   "cell_type": "code",
   "execution_count": 21,
   "id": "b2f6d8ce-712c-427c-b3da-08962157abb3",
   "metadata": {},
   "outputs": [
    {
     "name": "stdout",
     "output_type": "stream",
     "text": [
      " python \n"
     ]
    }
   ],
   "source": [
    "name4 = ' python '\n",
    "print(name4)"
   ]
  },
  {
   "cell_type": "code",
   "execution_count": 22,
   "id": "ecffd8cc-fa03-46d5-8bae-083cdab121a8",
   "metadata": {},
   "outputs": [
    {
     "data": {
      "text/plain": [
       "'python'"
      ]
     },
     "execution_count": 22,
     "metadata": {},
     "output_type": "execute_result"
    }
   ],
   "source": [
    "name4.strip()"
   ]
  },
  {
   "cell_type": "code",
   "execution_count": null,
   "id": "3faedb11-97ba-4d4e-a148-e28d68dad120",
   "metadata": {},
   "outputs": [],
   "source": [
    "#zen of Python : Guiding principles"
   ]
  },
  {
   "cell_type": "code",
   "execution_count": 23,
   "id": "7e35b450-7d68-4bea-82a4-a824e2fcd178",
   "metadata": {},
   "outputs": [
    {
     "name": "stdout",
     "output_type": "stream",
     "text": [
      "The Zen of Python, by Tim Peters\n",
      "\n",
      "Beautiful is better than ugly.\n",
      "Explicit is better than implicit.\n",
      "Simple is better than complex.\n",
      "Complex is better than complicated.\n",
      "Flat is better than nested.\n",
      "Sparse is better than dense.\n",
      "Readability counts.\n",
      "Special cases aren't special enough to break the rules.\n",
      "Although practicality beats purity.\n",
      "Errors should never pass silently.\n",
      "Unless explicitly silenced.\n",
      "In the face of ambiguity, refuse the temptation to guess.\n",
      "There should be one-- and preferably only one --obvious way to do it.\n",
      "Although that way may not be obvious at first unless you're Dutch.\n",
      "Now is better than never.\n",
      "Although never is often better than *right* now.\n",
      "If the implementation is hard to explain, it's a bad idea.\n",
      "If the implementation is easy to explain, it may be a good idea.\n",
      "Namespaces are one honking great idea -- let's do more of those!\n"
     ]
    }
   ],
   "source": [
    "import this"
   ]
  },
  {
   "cell_type": "code",
   "execution_count": null,
   "id": "524142c3-5f0e-4de9-a93c-1822a4589968",
   "metadata": {},
   "outputs": [],
   "source": []
  },
  {
   "cell_type": "code",
   "execution_count": null,
   "id": "e5d5f2d2-0db9-4f2c-924f-c491a1a7924a",
   "metadata": {},
   "outputs": [],
   "source": []
  },
  {
   "cell_type": "code",
   "execution_count": null,
   "id": "e47dc39c-e472-4a01-a678-63efaf1d42df",
   "metadata": {},
   "outputs": [],
   "source": []
  }
 ],
 "metadata": {
  "kernelspec": {
   "display_name": "Python [conda env:base] *",
   "language": "python",
   "name": "conda-base-py"
  },
  "language_info": {
   "codemirror_mode": {
    "name": "ipython",
    "version": 3
   },
   "file_extension": ".py",
   "mimetype": "text/x-python",
   "name": "python",
   "nbconvert_exporter": "python",
   "pygments_lexer": "ipython3",
   "version": "3.13.5"
  }
 },
 "nbformat": 4,
 "nbformat_minor": 5
}
