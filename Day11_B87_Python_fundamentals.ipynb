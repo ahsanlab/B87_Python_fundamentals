{
 "cells": [
  {
   "cell_type": "code",
   "execution_count": null,
   "id": "7a607d49-fe9b-401f-a880-122963849985",
   "metadata": {},
   "outputs": [],
   "source": [
    "#class Example req: design dog class with its functionalities:"
   ]
  },
  {
   "cell_type": "code",
   "execution_count": 16,
   "id": "62e844e4-8a71-4c0f-925a-9d8ca2beacb4",
   "metadata": {},
   "outputs": [],
   "source": [
    "class Dog:\n",
    "    \"\"\"A simple attempt to model the dog\"\"\"\n",
    "    def __init__(self, name, age):\n",
    "        self.name=name #are attributes\n",
    "        self.age=age\n",
    "    def sit(self):\n",
    "        \"\"\"simulate a dog sitting in response to a command\"\"\"\n",
    "        print(f\"{self.name} is now sitting\")\n",
    "    def roll_over(self):\n",
    "        \"\"\"simulate rolling over in response to the command\"\"\"\n",
    "        print(f\"{self.name} rolled over\")"
   ]
  },
  {
   "cell_type": "code",
   "execution_count": 17,
   "id": "5da4cdf0-0339-41d6-a795-a9e8feb0b298",
   "metadata": {},
   "outputs": [],
   "source": [
    "my_dog = Dog('bruno', 6)"
   ]
  },
  {
   "cell_type": "code",
   "execution_count": 18,
   "id": "658fa80b-bf94-48d7-94e2-0046593490be",
   "metadata": {},
   "outputs": [
    {
     "name": "stdout",
     "output_type": "stream",
     "text": [
      "bruno is now sitting\n"
     ]
    }
   ],
   "source": [
    "my_dog.sit()"
   ]
  },
  {
   "cell_type": "code",
   "execution_count": 19,
   "id": "34bd57bc-b2ee-4ed8-ac52-36f8898fb65d",
   "metadata": {},
   "outputs": [
    {
     "name": "stdout",
     "output_type": "stream",
     "text": [
      "bruno rolled over\n"
     ]
    }
   ],
   "source": [
    "my_dog.roll_over()"
   ]
  },
  {
   "cell_type": "code",
   "execution_count": 20,
   "id": "bfd6875a-75f4-4b22-aad7-d2716c9f4710",
   "metadata": {},
   "outputs": [],
   "source": [
    "test = Dog('rex', 3)"
   ]
  },
  {
   "cell_type": "code",
   "execution_count": 21,
   "id": "8d876469-eb5a-4bed-b3fd-b32c4c987b53",
   "metadata": {},
   "outputs": [
    {
     "name": "stdout",
     "output_type": "stream",
     "text": [
      "rex is now sitting\n"
     ]
    }
   ],
   "source": [
    "test.sit()"
   ]
  },
  {
   "cell_type": "code",
   "execution_count": 22,
   "id": "ba4ad2b4-99d0-45b1-b110-b53087cd9d1f",
   "metadata": {},
   "outputs": [
    {
     "name": "stdout",
     "output_type": "stream",
     "text": [
      "rex rolled over\n"
     ]
    }
   ],
   "source": [
    "test.roll_over()"
   ]
  },
  {
   "cell_type": "code",
   "execution_count": null,
   "id": "240e9db3-2689-4ae5-8349-53423970b6c9",
   "metadata": {},
   "outputs": [],
   "source": []
  },
  {
   "cell_type": "code",
   "execution_count": 23,
   "id": "35346bcc-ab87-44f4-8dae-9fab42331715",
   "metadata": {},
   "outputs": [],
   "source": [
    "class Car:\n",
    "    \"\"\"A simple attempt to represent a car\"\"\"\n",
    "\n",
    "    def __init__(self, make, model, year):\n",
    "        \"\"\"initialize the attributes to describe the car\"\"\"\n",
    "        self.make = make\n",
    "        self.model = model\n",
    "        self.year = year\n",
    "\n",
    "    def get_descriptive_name(self):\n",
    "        \"\"\"return a neatly formatted descriptive name\"\"\"\n",
    "        long_name = f\"{self.make} {self.model} {self.year}\"\n",
    "        return long_name.title()"
   ]
  },
  {
   "cell_type": "code",
   "execution_count": 25,
   "id": "ebcfc3a8-a721-466d-afac-5466b52e3465",
   "metadata": {},
   "outputs": [],
   "source": [
    "my_new_car = Car('audi', 'a4', 2020)"
   ]
  },
  {
   "cell_type": "code",
   "execution_count": 26,
   "id": "f27205d5-cb6b-4940-a77d-b7e32aa80a8c",
   "metadata": {},
   "outputs": [
    {
     "name": "stdout",
     "output_type": "stream",
     "text": [
      "Audi A4 2020\n"
     ]
    }
   ],
   "source": [
    "print(my_new_car.get_descriptive_name())"
   ]
  },
  {
   "cell_type": "code",
   "execution_count": null,
   "id": "14e16a90-5ad5-41e0-867b-30a3062143e9",
   "metadata": {},
   "outputs": [],
   "source": []
  },
  {
   "cell_type": "code",
   "execution_count": null,
   "id": "ce0a9a84-036e-4b2a-8855-1103a6c66569",
   "metadata": {},
   "outputs": [],
   "source": []
  },
  {
   "cell_type": "code",
   "execution_count": null,
   "id": "37251b94-73c0-4143-a33f-55090356f0ff",
   "metadata": {},
   "outputs": [],
   "source": []
  },
  {
   "cell_type": "code",
   "execution_count": null,
   "id": "e9228aa5-2e3e-41ac-aec6-cd54b080675b",
   "metadata": {},
   "outputs": [],
   "source": []
  },
  {
   "cell_type": "code",
   "execution_count": null,
   "id": "ebafbf3f-6562-4c5e-b52f-deb94212bb88",
   "metadata": {},
   "outputs": [],
   "source": []
  },
  {
   "cell_type": "code",
   "execution_count": null,
   "id": "f0cea4fe-fc26-430e-a5a7-d8f8a6477a39",
   "metadata": {},
   "outputs": [],
   "source": []
  },
  {
   "cell_type": "code",
   "execution_count": null,
   "id": "c2a1a899-60fc-494f-bcf3-92e1ec673fb6",
   "metadata": {},
   "outputs": [],
   "source": []
  },
  {
   "cell_type": "code",
   "execution_count": null,
   "id": "4391ad69-68cc-4d81-97a1-287d46a8c29d",
   "metadata": {},
   "outputs": [],
   "source": []
  },
  {
   "cell_type": "code",
   "execution_count": null,
   "id": "6bd7a97e-0a63-487a-a1d1-8e95712e81b5",
   "metadata": {},
   "outputs": [],
   "source": []
  },
  {
   "cell_type": "code",
   "execution_count": null,
   "id": "273dd5fc-d48d-49a8-a25d-b23ee670a385",
   "metadata": {},
   "outputs": [],
   "source": []
  },
  {
   "cell_type": "code",
   "execution_count": null,
   "id": "727add70-0d97-4ba7-84f8-1b194ad385d7",
   "metadata": {},
   "outputs": [],
   "source": []
  },
  {
   "cell_type": "code",
   "execution_count": null,
   "id": "40b302c6-22ff-468a-b4e2-c68310c7fa71",
   "metadata": {},
   "outputs": [],
   "source": []
  },
  {
   "cell_type": "code",
   "execution_count": null,
   "id": "217ff365-7348-4c7b-9d19-1bca3f51dae7",
   "metadata": {},
   "outputs": [],
   "source": []
  },
  {
   "cell_type": "code",
   "execution_count": null,
   "id": "9ebd2ded-e18c-4f87-86b7-ded483d8fc04",
   "metadata": {},
   "outputs": [],
   "source": []
  },
  {
   "cell_type": "code",
   "execution_count": null,
   "id": "446cf85b-bd74-43b1-8c16-02797918ef5a",
   "metadata": {},
   "outputs": [],
   "source": []
  },
  {
   "cell_type": "code",
   "execution_count": null,
   "id": "488ce706-e196-4e87-a6da-9bcce54d1f3d",
   "metadata": {},
   "outputs": [],
   "source": []
  },
  {
   "cell_type": "code",
   "execution_count": null,
   "id": "136279cd-72b6-4efe-8574-5454e3f29829",
   "metadata": {},
   "outputs": [],
   "source": []
  },
  {
   "cell_type": "code",
   "execution_count": null,
   "id": "82d619c8-da0a-4642-a1bf-44f3aee1d2d5",
   "metadata": {},
   "outputs": [],
   "source": []
  },
  {
   "cell_type": "code",
   "execution_count": null,
   "id": "dcd3bd76-837b-4dcb-9cd8-c334bf03f948",
   "metadata": {},
   "outputs": [],
   "source": []
  },
  {
   "cell_type": "code",
   "execution_count": null,
   "id": "4293b383-3169-44e0-a4c0-8fd368e23f35",
   "metadata": {},
   "outputs": [],
   "source": []
  },
  {
   "cell_type": "code",
   "execution_count": null,
   "id": "0ba0adb1-3f3e-4912-afab-cfcad4f94006",
   "metadata": {},
   "outputs": [],
   "source": []
  },
  {
   "cell_type": "code",
   "execution_count": null,
   "id": "8fe11860-b4b8-4254-b7fa-0a8cdc393edf",
   "metadata": {},
   "outputs": [],
   "source": []
  },
  {
   "cell_type": "code",
   "execution_count": null,
   "id": "64ef6df0-f7a2-4a61-b896-7e9e03fa3ba8",
   "metadata": {},
   "outputs": [],
   "source": []
  },
  {
   "cell_type": "code",
   "execution_count": null,
   "id": "4435d3d8-a11d-4b9a-b0d1-1d37a5a65547",
   "metadata": {},
   "outputs": [],
   "source": []
  },
  {
   "cell_type": "code",
   "execution_count": null,
   "id": "29084076-9725-416a-83cc-eae5fda88071",
   "metadata": {},
   "outputs": [],
   "source": []
  },
  {
   "cell_type": "code",
   "execution_count": null,
   "id": "d44c948a-9838-4094-a0d7-ce79a622acfb",
   "metadata": {},
   "outputs": [],
   "source": []
  },
  {
   "cell_type": "code",
   "execution_count": null,
   "id": "aa02c19d-6434-489a-a0ad-fc99d811b302",
   "metadata": {},
   "outputs": [],
   "source": []
  },
  {
   "cell_type": "code",
   "execution_count": null,
   "id": "a7e5d826-6c97-4122-a56e-319e5d6d0dfb",
   "metadata": {},
   "outputs": [],
   "source": []
  },
  {
   "cell_type": "code",
   "execution_count": null,
   "id": "2df3c30c-4b82-4d4b-a527-50a2a88f5491",
   "metadata": {},
   "outputs": [],
   "source": []
  },
  {
   "cell_type": "code",
   "execution_count": null,
   "id": "eb26728b-4d42-436d-9264-4c7e204590f7",
   "metadata": {},
   "outputs": [],
   "source": []
  },
  {
   "cell_type": "code",
   "execution_count": null,
   "id": "f56ef243-66b7-4df5-818c-bb3a94cf8d48",
   "metadata": {},
   "outputs": [],
   "source": []
  },
  {
   "cell_type": "code",
   "execution_count": null,
   "id": "29f9854f-4e4d-4c11-bf20-664f12000c6a",
   "metadata": {},
   "outputs": [],
   "source": []
  },
  {
   "cell_type": "code",
   "execution_count": null,
   "id": "901c05e5-2314-47b9-a93f-87d553742022",
   "metadata": {},
   "outputs": [],
   "source": []
  },
  {
   "cell_type": "code",
   "execution_count": null,
   "id": "cd1cbea3-1591-4512-80c5-9f17fbbd12e3",
   "metadata": {},
   "outputs": [],
   "source": []
  },
  {
   "cell_type": "code",
   "execution_count": null,
   "id": "54a2e93e-f4c9-4b9c-8325-061930163028",
   "metadata": {},
   "outputs": [],
   "source": []
  },
  {
   "cell_type": "code",
   "execution_count": null,
   "id": "13b5f19a-a087-4422-9cfb-50aad4861ac3",
   "metadata": {},
   "outputs": [],
   "source": []
  },
  {
   "cell_type": "code",
   "execution_count": null,
   "id": "911a1778-d7a7-4836-bc01-a01b85332bc7",
   "metadata": {},
   "outputs": [],
   "source": []
  },
  {
   "cell_type": "code",
   "execution_count": null,
   "id": "48d50cd3-fcce-485f-bb70-797e9e1446c3",
   "metadata": {},
   "outputs": [],
   "source": []
  },
  {
   "cell_type": "code",
   "execution_count": null,
   "id": "e0fbf7d1-2ac8-42ac-bf80-0ec80388a4f8",
   "metadata": {},
   "outputs": [],
   "source": []
  },
  {
   "cell_type": "code",
   "execution_count": null,
   "id": "23db0dd7-d785-498f-9da9-e13e338edd0a",
   "metadata": {},
   "outputs": [],
   "source": []
  },
  {
   "cell_type": "code",
   "execution_count": null,
   "id": "961f8a8d-c34b-40ea-b36f-c1a0753c143d",
   "metadata": {},
   "outputs": [],
   "source": []
  },
  {
   "cell_type": "code",
   "execution_count": null,
   "id": "ce2a484e-7fd8-4c41-b45f-0c10494ba5fe",
   "metadata": {},
   "outputs": [],
   "source": []
  },
  {
   "cell_type": "code",
   "execution_count": null,
   "id": "04eb176b-30bb-491d-8a5f-52f0ab399a4e",
   "metadata": {},
   "outputs": [],
   "source": []
  },
  {
   "cell_type": "code",
   "execution_count": null,
   "id": "3cc6ea85-ab80-483c-ad10-202405237007",
   "metadata": {},
   "outputs": [],
   "source": []
  },
  {
   "cell_type": "code",
   "execution_count": null,
   "id": "be1d3251-8075-4433-929d-855dc057e411",
   "metadata": {},
   "outputs": [],
   "source": []
  },
  {
   "cell_type": "code",
   "execution_count": null,
   "id": "47b55c7b-ac52-490e-91aa-150bb0666e4f",
   "metadata": {},
   "outputs": [],
   "source": []
  },
  {
   "cell_type": "code",
   "execution_count": null,
   "id": "6257c4ca-7940-4f14-a266-a07a377d02fc",
   "metadata": {},
   "outputs": [],
   "source": []
  },
  {
   "cell_type": "code",
   "execution_count": null,
   "id": "5f04a697-a527-4d61-96d7-f31aaf1b43a7",
   "metadata": {},
   "outputs": [],
   "source": []
  },
  {
   "cell_type": "code",
   "execution_count": null,
   "id": "bb1e9b98-c995-435d-bb2d-beb5a8d125fc",
   "metadata": {},
   "outputs": [],
   "source": []
  },
  {
   "cell_type": "code",
   "execution_count": null,
   "id": "b7b57ad5-a64a-405f-a7b5-78dddc9d644a",
   "metadata": {},
   "outputs": [],
   "source": []
  },
  {
   "cell_type": "code",
   "execution_count": null,
   "id": "a28059e2-5eae-4762-b740-7fab036fc302",
   "metadata": {},
   "outputs": [],
   "source": []
  }
 ],
 "metadata": {
  "kernelspec": {
   "display_name": "Python [conda env:base] *",
   "language": "python",
   "name": "conda-base-py"
  },
  "language_info": {
   "codemirror_mode": {
    "name": "ipython",
    "version": 3
   },
   "file_extension": ".py",
   "mimetype": "text/x-python",
   "name": "python",
   "nbconvert_exporter": "python",
   "pygments_lexer": "ipython3",
   "version": "3.13.5"
  }
 },
 "nbformat": 4,
 "nbformat_minor": 5
}
