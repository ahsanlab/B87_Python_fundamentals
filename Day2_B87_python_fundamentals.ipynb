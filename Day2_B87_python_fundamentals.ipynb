{
 "cells": [
  {
   "cell_type": "code",
   "execution_count": null,
   "id": "8d1fc399-c2de-4813-8788-8d3c2eb5f8c8",
   "metadata": {},
   "outputs": [],
   "source": []
  },
  {
   "cell_type": "code",
   "execution_count": 1,
   "id": "cfb56f6f-d396-49ac-a53b-ef685e85340a",
   "metadata": {},
   "outputs": [],
   "source": [
    "x=2\n",
    "y=5\n"
   ]
  },
  {
   "cell_type": "code",
   "execution_count": 3,
   "id": "44e24461-e0c7-48a1-82d3-a45a6c44ba2d",
   "metadata": {},
   "outputs": [
    {
     "name": "stdout",
     "output_type": "stream",
     "text": [
      "7\n"
     ]
    }
   ],
   "source": [
    "z=x+y\n",
    "print(z)"
   ]
  },
  {
   "cell_type": "code",
   "execution_count": 4,
   "id": "1502ac99-816b-417d-916c-34bd30fd7327",
   "metadata": {},
   "outputs": [
    {
     "name": "stdout",
     "output_type": "stream",
     "text": [
      "Farooque\n"
     ]
    }
   ],
   "source": [
    "first_name='Farooque'\n",
    "print(first_name)"
   ]
  },
  {
   "cell_type": "code",
   "execution_count": 5,
   "id": "d22ee014-faa6-409f-83d3-83cfe3d2d395",
   "metadata": {},
   "outputs": [
    {
     "name": "stdout",
     "output_type": "stream",
     "text": [
      "Farooque Ahsan\n"
     ]
    }
   ],
   "source": [
    "first_name=\"Farooque Ahsan\"\n",
    "print(first_name)"
   ]
  },
  {
   "cell_type": "code",
   "execution_count": 6,
   "id": "1a1ba006-c215-4b23-9ef3-a4495e8a5429",
   "metadata": {},
   "outputs": [
    {
     "name": "stdout",
     "output_type": "stream",
     "text": [
      "<class 'str'>\n"
     ]
    }
   ],
   "source": [
    "print(type(first_name))"
   ]
  },
  {
   "cell_type": "code",
   "execution_count": 7,
   "id": "7b7e7d88-a749-4c65-b7c5-064a596a0e3b",
   "metadata": {},
   "outputs": [
    {
     "name": "stdout",
     "output_type": "stream",
     "text": [
      "FAROOQUE AHSAN\n"
     ]
    }
   ],
   "source": [
    "print(first_name.upper())"
   ]
  },
  {
   "cell_type": "raw",
   "id": "ddf5e2a9-b69a-4bf5-bed8-f3e35a51866c",
   "metadata": {},
   "source": []
  },
  {
   "cell_type": "code",
   "execution_count": null,
   "id": "76490530-e099-44a7-8304-7ef388dd7ac3",
   "metadata": {},
   "outputs": [],
   "source": []
  },
  {
   "cell_type": "code",
   "execution_count": null,
   "id": "d7e96853-fb9e-4d5f-9779-9f49a8c8dbc6",
   "metadata": {},
   "outputs": [],
   "source": []
  },
  {
   "cell_type": "code",
   "execution_count": null,
   "id": "0561b260-c8b9-4619-b347-903d57bd5930",
   "metadata": {},
   "outputs": [],
   "source": []
  },
  {
   "cell_type": "code",
   "execution_count": null,
   "id": "126198b5-ae05-4062-9e25-8181ae43e4eb",
   "metadata": {},
   "outputs": [],
   "source": []
  },
  {
   "cell_type": "code",
   "execution_count": null,
   "id": "90e24c3e-8c8d-4e37-87a2-ecddc85b3bfe",
   "metadata": {},
   "outputs": [],
   "source": []
  },
  {
   "cell_type": "code",
   "execution_count": null,
   "id": "979e1a43-5128-42c1-a43e-04b05b724747",
   "metadata": {},
   "outputs": [],
   "source": []
  }
 ],
 "metadata": {
  "kernelspec": {
   "display_name": "Python [conda env:base] *",
   "language": "python",
   "name": "conda-base-py"
  },
  "language_info": {
   "codemirror_mode": {
    "name": "ipython",
    "version": 3
   },
   "file_extension": ".py",
   "mimetype": "text/x-python",
   "name": "python",
   "nbconvert_exporter": "python",
   "pygments_lexer": "ipython3",
   "version": "3.13.5"
  }
 },
 "nbformat": 4,
 "nbformat_minor": 5
}
