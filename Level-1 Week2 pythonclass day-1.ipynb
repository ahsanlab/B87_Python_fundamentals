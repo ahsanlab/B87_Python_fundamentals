{
 "cells": [
  {
   "cell_type": "code",
   "execution_count": null,
   "id": "69bc24cd-49b0-4b9d-9b1a-8f71516430ae",
   "metadata": {},
   "outputs": [],
   "source": [
    "# understanding the variables in Pyython"
   ]
  },
  {
   "cell_type": "code",
   "execution_count": 2,
   "id": "66103c5c-5b44-4eb0-8df9-f5d7104a6b86",
   "metadata": {},
   "outputs": [
    {
     "name": "stdout",
     "output_type": "stream",
     "text": [
      "5\n"
     ]
    }
   ],
   "source": [
    "x=2\n",
    "y=3\n",
    "z=x+y\n",
    "print(z)"
   ]
  },
  {
   "cell_type": "code",
   "execution_count": null,
   "id": "3d6f4f8e-fb81-4fe6-aa8e-6050c045ff0b",
   "metadata": {},
   "outputs": [],
   "source": [
    "# Rules for declaring the variables:\n",
    "'''\n",
    "Rule No 1: No namespaces while declaring the variable name.\n",
    "'''"
   ]
  },
  {
   "cell_type": "code",
   "execution_count": 4,
   "id": "609b8ba6-57b9-4878-85d7-c300a09191f3",
   "metadata": {},
   "outputs": [
    {
     "ename": "SyntaxError",
     "evalue": "invalid syntax (3215937174.py, line 1)",
     "output_type": "error",
     "traceback": [
      "\u001b[1;36m  Cell \u001b[1;32mIn[4], line 1\u001b[1;36m\u001b[0m\n\u001b[1;33m    first name = 'Farooque'\u001b[0m\n\u001b[1;37m          ^\u001b[0m\n\u001b[1;31mSyntaxError\u001b[0m\u001b[1;31m:\u001b[0m invalid syntax\n"
     ]
    }
   ],
   "source": [
    "first name = 'Farooque'\n",
    "print(first name)"
   ]
  },
  {
   "cell_type": "code",
   "execution_count": 6,
   "id": "c4d42b02-dd0a-406f-a672-9389d3975711",
   "metadata": {},
   "outputs": [
    {
     "name": "stdout",
     "output_type": "stream",
     "text": [
      "Farooque\n"
     ]
    }
   ],
   "source": [
    "firstname = 'Farooque'\n",
    "print(firstname)"
   ]
  },
  {
   "cell_type": "code",
   "execution_count": 7,
   "id": "b232edbe-2a23-4dfe-ad4e-93900ead70e3",
   "metadata": {},
   "outputs": [
    {
     "name": "stdout",
     "output_type": "stream",
     "text": [
      "Ahsan\n"
     ]
    }
   ],
   "source": [
    "first_name = 'Ahsan'\n",
    "print(first_name)"
   ]
  },
  {
   "cell_type": "code",
   "execution_count": null,
   "id": "94b63fe4-1077-462c-acc6-088243303e4a",
   "metadata": {},
   "outputs": [],
   "source": [
    "#Rule No 2: A variable name should not start with a number **"
   ]
  },
  {
   "cell_type": "code",
   "execution_count": 8,
   "id": "3e0d51ff-f959-462f-a2a3-420eddce365d",
   "metadata": {},
   "outputs": [
    {
     "ename": "SyntaxError",
     "evalue": "invalid decimal literal (976710041.py, line 1)",
     "output_type": "error",
     "traceback": [
      "\u001b[1;36m  Cell \u001b[1;32mIn[8], line 1\u001b[1;36m\u001b[0m\n\u001b[1;33m    2name 'Tabish'\u001b[0m\n\u001b[1;37m    ^\u001b[0m\n\u001b[1;31mSyntaxError\u001b[0m\u001b[1;31m:\u001b[0m invalid decimal literal\n"
     ]
    }
   ],
   "source": [
    "2name 'Tabish'\n",
    "print(2name)"
   ]
  },
  {
   "cell_type": "code",
   "execution_count": null,
   "id": "4ae9a776-fe1d-4b40-b797-2f166d0897b1",
   "metadata": {},
   "outputs": [],
   "source": [
    "# Rule No 3: A variable name should not consiste of any special characters"
   ]
  },
  {
   "cell_type": "code",
   "execution_count": null,
   "id": "4791769f-a365-464e-9e89-711a63c37793",
   "metadata": {},
   "outputs": [],
   "source": [
    "@ $ % & *"
   ]
  },
  {
   "cell_type": "code",
   "execution_count": 9,
   "id": "99a39360-6a6d-4b9d-ba72-29d20d0a486d",
   "metadata": {},
   "outputs": [
    {
     "ename": "SyntaxError",
     "evalue": "invalid syntax (3529196000.py, line 1)",
     "output_type": "error",
     "traceback": [
      "\u001b[1;36m  Cell \u001b[1;32mIn[9], line 1\u001b[1;36m\u001b[0m\n\u001b[1;33m    test@ = 'cricket'\u001b[0m\n\u001b[1;37m          ^\u001b[0m\n\u001b[1;31mSyntaxError\u001b[0m\u001b[1;31m:\u001b[0m invalid syntax\n"
     ]
    }
   ],
   "source": [
    "test@ = 'cricket'\n",
    "print(test@)"
   ]
  },
  {
   "cell_type": "code",
   "execution_count": null,
   "id": "c41b70b5-3daa-4f29-a653-875ec798b015",
   "metadata": {},
   "outputs": [],
   "source": [
    "# Introduction to Datatypes:\n",
    "'''\n",
    "    1. strings =====> str\n",
    "    2. Numbers ======> integers(int) and floats( float)(decimal points)\n",
    "    3. List =====> list\n",
    "    4. tuples =====> tuple\n",
    "    5. Dictionaries ======> dict\n",
    "'''"
   ]
  },
  {
   "cell_type": "code",
   "execution_count": null,
   "id": "664d2be4-a8fb-4e86-bfd1-7faee7eb5546",
   "metadata": {},
   "outputs": [],
   "source": [
    "# Classification of datatypes:\n",
    "'''\n",
    "    Broadly datatypes are classified into 2 categories:\n",
    "        1. mutable datatypes ====> which we can be able to edit/alter\n",
    "        2. immutable datatype ====> which are fixed in nature, we will not be able to edit.\n",
    "'''"
   ]
  },
  {
   "cell_type": "code",
   "execution_count": null,
   "id": "2121aa29-093f-4764-8afc-4bb279553c4b",
   "metadata": {},
   "outputs": [],
   "source": [
    "'''\n",
    "introduction to string datatypes\n",
    "\n",
    "Definition: A string is a series of characters declared in quotes.\n",
    "\n",
    "classification: It is classified as an immutable datatype\n",
    " how to define the string : 2 Approaches\n",
    "     1. siingle quote\n",
    "     2. double quotes\n",
    "'''"
   ]
  },
  {
   "cell_type": "code",
   "execution_count": 10,
   "id": "10a98e7c-4360-43cd-aaf0-1968a75037f3",
   "metadata": {},
   "outputs": [
    {
     "name": "stdout",
     "output_type": "stream",
     "text": [
      "lalith\n"
     ]
    }
   ],
   "source": [
    "name = 'lalith'\n",
    "print(name)"
   ]
  },
  {
   "cell_type": "code",
   "execution_count": 11,
   "id": "e0a6c1c9-b885-4385-9419-e1e7573794f6",
   "metadata": {},
   "outputs": [
    {
     "name": "stdout",
     "output_type": "stream",
     "text": [
      "yaseen\n"
     ]
    }
   ],
   "source": [
    "name2 = \"yaseen\"\n",
    "print(name2)"
   ]
  },
  {
   "cell_type": "code",
   "execution_count": 12,
   "id": "878f7bd6-e25c-457b-be6f-038cc70ba720",
   "metadata": {},
   "outputs": [
    {
     "data": {
      "text/plain": [
       "str"
      ]
     },
     "execution_count": 12,
     "metadata": {},
     "output_type": "execute_result"
    }
   ],
   "source": [
    "type(name)"
   ]
  },
  {
   "cell_type": "code",
   "execution_count": 13,
   "id": "df9c6f88-a8e9-4c25-b780-0a446b219b47",
   "metadata": {},
   "outputs": [
    {
     "data": {
      "text/plain": [
       "str"
      ]
     },
     "execution_count": 13,
     "metadata": {},
     "output_type": "execute_result"
    }
   ],
   "source": [
    "type(name2)"
   ]
  },
  {
   "cell_type": "code",
   "execution_count": null,
   "id": "0d8d0735-866f-49ff-b805-e019f281a109",
   "metadata": {},
   "outputs": [],
   "source": []
  },
  {
   "cell_type": "code",
   "execution_count": null,
   "id": "cc1dc54c-3ebd-4962-9c58-dfebb07da174",
   "metadata": {},
   "outputs": [],
   "source": []
  },
  {
   "cell_type": "code",
   "execution_count": null,
   "id": "4cabfbd0-0390-490d-bd96-ca620e5a9bc5",
   "metadata": {},
   "outputs": [],
   "source": []
  },
  {
   "cell_type": "code",
   "execution_count": null,
   "id": "ec68169e-7c49-40c1-80c2-2bd4010bb053",
   "metadata": {},
   "outputs": [],
   "source": []
  },
  {
   "cell_type": "code",
   "execution_count": null,
   "id": "404f33dd-04b4-4f61-8800-0e957e9694eb",
   "metadata": {},
   "outputs": [],
   "source": []
  },
  {
   "cell_type": "code",
   "execution_count": null,
   "id": "1da762da-427d-44c0-9105-b8bc58b2b4ac",
   "metadata": {},
   "outputs": [],
   "source": []
  },
  {
   "cell_type": "code",
   "execution_count": null,
   "id": "e79538d9-dd4c-4e20-9322-4b266ed8a32e",
   "metadata": {},
   "outputs": [],
   "source": []
  },
  {
   "cell_type": "code",
   "execution_count": null,
   "id": "b80b9dfc-8103-4bf4-b077-71941cbfa2d2",
   "metadata": {},
   "outputs": [],
   "source": []
  },
  {
   "cell_type": "code",
   "execution_count": null,
   "id": "9cc5af15-d86a-400b-afa0-306e4521d493",
   "metadata": {},
   "outputs": [],
   "source": []
  },
  {
   "cell_type": "code",
   "execution_count": null,
   "id": "083c1d01-1b6b-4c6a-81ea-322b2ee9e069",
   "metadata": {},
   "outputs": [],
   "source": []
  },
  {
   "cell_type": "code",
   "execution_count": null,
   "id": "fdc3c57d-dda3-490b-a5fa-3c3ad3893ef1",
   "metadata": {},
   "outputs": [],
   "source": []
  },
  {
   "cell_type": "code",
   "execution_count": null,
   "id": "6b688782-120a-4a12-bc00-a644fb66a506",
   "metadata": {},
   "outputs": [],
   "source": []
  },
  {
   "cell_type": "code",
   "execution_count": null,
   "id": "ce317383-b951-4932-8527-6e3f44a8aae9",
   "metadata": {},
   "outputs": [],
   "source": []
  },
  {
   "cell_type": "code",
   "execution_count": null,
   "id": "7f459f07-cbf9-41cc-9804-bd7e32920274",
   "metadata": {},
   "outputs": [],
   "source": []
  },
  {
   "cell_type": "code",
   "execution_count": null,
   "id": "129c8e17-443d-4060-8f58-1d17f630549e",
   "metadata": {},
   "outputs": [],
   "source": []
  },
  {
   "cell_type": "code",
   "execution_count": null,
   "id": "54bc1507-0a6e-4e1d-9828-fcf783061949",
   "metadata": {},
   "outputs": [],
   "source": []
  },
  {
   "cell_type": "code",
   "execution_count": null,
   "id": "e8f73706-9199-44c2-b9e1-fa7ab32f99fa",
   "metadata": {},
   "outputs": [],
   "source": []
  },
  {
   "cell_type": "code",
   "execution_count": null,
   "id": "c5d1874b-749b-40c3-9c59-7a47798038e8",
   "metadata": {},
   "outputs": [],
   "source": []
  },
  {
   "cell_type": "code",
   "execution_count": null,
   "id": "80818ba4-bc33-4615-8c1f-4d7cf18dc1a2",
   "metadata": {},
   "outputs": [],
   "source": []
  },
  {
   "cell_type": "code",
   "execution_count": null,
   "id": "d4d9dc3f-ed5b-4175-b995-4b0edb08cc50",
   "metadata": {},
   "outputs": [],
   "source": []
  }
 ],
 "metadata": {
  "kernelspec": {
   "display_name": "Python [conda env:base] *",
   "language": "python",
   "name": "conda-base-py"
  },
  "language_info": {
   "codemirror_mode": {
    "name": "ipython",
    "version": 3
   },
   "file_extension": ".py",
   "mimetype": "text/x-python",
   "name": "python",
   "nbconvert_exporter": "python",
   "pygments_lexer": "ipython3",
   "version": "3.13.5"
  }
 },
 "nbformat": 4,
 "nbformat_minor": 5
}
