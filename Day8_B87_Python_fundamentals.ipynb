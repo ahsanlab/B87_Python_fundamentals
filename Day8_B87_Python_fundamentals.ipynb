{
 "cells": [
  {
   "cell_type": "code",
   "execution_count": null,
   "id": "277be7d4-ae55-4742-85d1-bd5e0ba48299",
   "metadata": {},
   "outputs": [],
   "source": [
    "# looping statement"
   ]
  },
  {
   "cell_type": "code",
   "execution_count": 2,
   "id": "2c39e9f2-b403-4f3d-87c6-bcc65537ec02",
   "metadata": {},
   "outputs": [
    {
     "name": "stdout",
     "output_type": "stream",
     "text": [
      "['akshay', 'bhavana', 'Chand', 'danish', 'ahsan']\n"
     ]
    }
   ],
   "source": [
    "students =['akshay', 'bhavana', 'Chand', 'danish', 'ahsan']\n",
    "print(students)"
   ]
  },
  {
   "cell_type": "code",
   "execution_count": 4,
   "id": "9fcdc233-d010-4482-88fc-0e22b7c74689",
   "metadata": {},
   "outputs": [
    {
     "name": "stdout",
     "output_type": "stream",
     "text": [
      "keep up the good work, Akshay\n",
      "keep up the good work, Bhavana\n",
      "keep up the good work, Chand\n",
      "keep up the good work, Danish\n",
      "keep up the good work, Ahsan\n"
     ]
    }
   ],
   "source": [
    "for a in students:\n",
    "    print(f\"keep up the good work, {a.title()}\")"
   ]
  },
  {
   "cell_type": "code",
   "execution_count": 5,
   "id": "05a58638-40be-4574-839a-cff57c3bc97c",
   "metadata": {},
   "outputs": [
    {
     "name": "stdout",
     "output_type": "stream",
     "text": [
      "Keep up the good work!, Akshay\n",
      "Keep up the good work!, Bhavana\n",
      "Keep up the good work!, Chand\n",
      "Keep up the good work!, Danish\n",
      "Keep up the good work!, Ahsan\n",
      "I am waiting to receive your submission today task!Ahsan\n"
     ]
    }
   ],
   "source": [
    "for a in students:\n",
    "    print(f\"Keep up the good work!, {a.title()}\")\n",
    "print(f\"I am waiting to receive your submission today task!{a.title()}\")"
   ]
  },
  {
   "cell_type": "code",
   "execution_count": 6,
   "id": "75ebbd48-4766-4b2b-baef-99b324cbd8b3",
   "metadata": {},
   "outputs": [
    {
     "name": "stdout",
     "output_type": "stream",
     "text": [
      "Keep up the good work!, Akshay\n",
      "I am waiting to receive your submission today task!Akshay\n",
      "Keep up the good work!, Bhavana\n",
      "I am waiting to receive your submission today task!Bhavana\n",
      "Keep up the good work!, Chand\n",
      "I am waiting to receive your submission today task!Chand\n",
      "Keep up the good work!, Danish\n",
      "I am waiting to receive your submission today task!Danish\n",
      "Keep up the good work!, Ahsan\n",
      "I am waiting to receive your submission today task!Ahsan\n",
      "Thank you all for attending the python training session\n"
     ]
    }
   ],
   "source": [
    "for a in students:\n",
    "    print(f\"Keep up the good work!, {a.title()}\")\n",
    "    print(f\"I am waiting to receive your submission today task!{a.title()}\")\n",
    "print(\"Thank you all for attending the python training session\")"
   ]
  },
  {
   "cell_type": "code",
   "execution_count": 8,
   "id": "be136eef-dcb5-41b7-8775-93e7903fb3a2",
   "metadata": {},
   "outputs": [
    {
     "name": "stdout",
     "output_type": "stream",
     "text": [
      "Keep up the good work!, Akshay\n",
      "I am waiting to receive your submission today task!Akshay\n",
      "\n",
      "Keep up the good work!, Bhavana\n",
      "I am waiting to receive your submission today task!Bhavana\n",
      "\n",
      "Keep up the good work!, Chand\n",
      "I am waiting to receive your submission today task!Chand\n",
      "\n",
      "Keep up the good work!, Danish\n",
      "I am waiting to receive your submission today task!Danish\n",
      "\n",
      "Keep up the good work!, Ahsan\n",
      "I am waiting to receive your submission today task!Ahsan\n",
      "\n",
      "\n",
      "Thank you all for attending the python training session\n"
     ]
    }
   ],
   "source": [
    "for a in students:\n",
    "    print(f\"Keep up the good work!, {a.title()}\")\n",
    "    print(f\"I am waiting to receive your submission today task!{a.title()}\\n\")\n",
    "print(\"\\nThank you all for attending the python training session\")"
   ]
  },
  {
   "cell_type": "code",
   "execution_count": null,
   "id": "b3046831-0934-4a98-840f-5258e1eda987",
   "metadata": {},
   "outputs": [],
   "source": []
  },
  {
   "cell_type": "code",
   "execution_count": null,
   "id": "af45664d-dd46-4847-b55a-12f40112e29f",
   "metadata": {},
   "outputs": [],
   "source": [
    "#Day 8 #Introduction to conditional statement"
   ]
  },
  {
   "cell_type": "code",
   "execution_count": 9,
   "id": "a3df3987-d060-4cb6-9843-93527c7445fb",
   "metadata": {},
   "outputs": [
    {
     "name": "stdout",
     "output_type": "stream",
     "text": [
      "['audi', 'bmw', 'hyundai', 'tayota', 'kia', 'suzuki', 'maruti']\n"
     ]
    }
   ],
   "source": [
    "cars = [\"audi\", 'bmw', 'hyundai', 'tayota', 'kia', 'suzuki', 'maruti']\n",
    "print(cars)"
   ]
  },
  {
   "cell_type": "code",
   "execution_count": 10,
   "id": "1f43b3b5-d222-4b5b-8d9d-4fa024c1c43f",
   "metadata": {},
   "outputs": [
    {
     "data": {
      "text/plain": [
       "list"
      ]
     },
     "execution_count": 10,
     "metadata": {},
     "output_type": "execute_result"
    }
   ],
   "source": [
    "type(cars)"
   ]
  },
  {
   "cell_type": "code",
   "execution_count": 11,
   "id": "e3a915c1-51b0-4a52-81f1-907970d6fb4c",
   "metadata": {},
   "outputs": [
    {
     "name": "stdout",
     "output_type": "stream",
     "text": [
      "Audi\n",
      "Bmw\n",
      "Hyundai\n",
      "Tayota\n",
      "Kia\n",
      "SUZUKI\n",
      "Maruti\n"
     ]
    }
   ],
   "source": [
    "for a in cars:\n",
    "    if a=='suzuki':\n",
    "        print(a.upper())\n",
    "    else:\n",
    "        print(a.title())"
   ]
  },
  {
   "cell_type": "code",
   "execution_count": null,
   "id": "04a4a6a2-f252-4b71-9e58-54da56cac4b8",
   "metadata": {},
   "outputs": [],
   "source": [
    "# voting Application"
   ]
  },
  {
   "cell_type": "code",
   "execution_count": 12,
   "id": "af784719-2207-4a48-a082-33a93a967012",
   "metadata": {},
   "outputs": [
    {
     "data": {
      "text/plain": [
       "int"
      ]
     },
     "execution_count": 12,
     "metadata": {},
     "output_type": "execute_result"
    }
   ],
   "source": [
    "age=17\n",
    "type(age)"
   ]
  },
  {
   "cell_type": "code",
   "execution_count": 13,
   "id": "043eef44-3b43-4c63-8c3e-a18316c10966",
   "metadata": {},
   "outputs": [
    {
     "name": "stdout",
     "output_type": "stream",
     "text": [
      "You are not eligible to vote wait for next year!\n"
     ]
    }
   ],
   "source": [
    "if age>=18:\n",
    "    print(\"You are eligible to vote!\")\n",
    "else:\n",
    "    print(\"You are not eligible to vote wait for next year!\")"
   ]
  },
  {
   "cell_type": "code",
   "execution_count": null,
   "id": "aca62162-a350-4fca-a7a8-6d2e387a1e40",
   "metadata": {},
   "outputs": [],
   "source": [
    "# understand the concept of user input"
   ]
  },
  {
   "cell_type": "code",
   "execution_count": 16,
   "id": "b78bbe44-ed7e-4e12-93c7-7dfd3c19b352",
   "metadata": {},
   "outputs": [
    {
     "name": "stdin",
     "output_type": "stream",
     "text": [
      "Tell me something and i will repeat for you! Hello\n"
     ]
    },
    {
     "name": "stdout",
     "output_type": "stream",
     "text": [
      "Hello\n"
     ]
    }
   ],
   "source": [
    "message = input(\"Tell me something and i will repeat for you!\")\n",
    "print(message)"
   ]
  },
  {
   "cell_type": "code",
   "execution_count": 17,
   "id": "99da83fb-e75a-45d1-afc7-1ec578669e33",
   "metadata": {},
   "outputs": [],
   "source": [
    "# I want to greet user based on input"
   ]
  },
  {
   "cell_type": "code",
   "execution_count": 18,
   "id": "54907838-f692-4c89-8e7d-f46685b65be8",
   "metadata": {},
   "outputs": [
    {
     "name": "stdin",
     "output_type": "stream",
     "text": [
      "PLease enter your name! Ahsan\n"
     ]
    },
    {
     "name": "stdout",
     "output_type": "stream",
     "text": [
      "\n",
      " Hello, Ahsan!\n"
     ]
    }
   ],
   "source": [
    "name = input(\"PLease enter your name!\")\n",
    "print(f\"\\n Hello, {name}!\")"
   ]
  },
  {
   "cell_type": "code",
   "execution_count": null,
   "id": "b2e57a70-8d32-4dc7-b02c-432d1e7c1bfc",
   "metadata": {},
   "outputs": [],
   "source": []
  },
  {
   "cell_type": "code",
   "execution_count": 19,
   "id": "698baf1b-47ce-4cde-9ada-c5c65e2a9810",
   "metadata": {},
   "outputs": [
    {
     "name": "stdin",
     "output_type": "stream",
     "text": [
      "How old are you! 23\n"
     ]
    },
    {
     "name": "stdout",
     "output_type": "stream",
     "text": [
      "you are  eligible to vote!\n"
     ]
    }
   ],
   "source": [
    "age = input(\"How old are you!\")\n",
    "age=int(age)\n",
    "if age>=18:\n",
    "    print(\"you are  eligible to vote!\")\n",
    "else:\n",
    "    print(\"You are not eligible to voote wait fo next year\")"
   ]
  },
  {
   "cell_type": "code",
   "execution_count": 20,
   "id": "a147a63f-f955-4408-9c4a-cf28756b0200",
   "metadata": {},
   "outputs": [
    {
     "name": "stdin",
     "output_type": "stream",
     "text": [
      "How old are you! 16\n"
     ]
    },
    {
     "name": "stdout",
     "output_type": "stream",
     "text": [
      "You are not eligible to voote wait fo next year\n"
     ]
    }
   ],
   "source": [
    "age = input(\"How old are you!\")\n",
    "age=int(age)\n",
    "if age>=18:\n",
    "    print(\"you are  eligible to vote!\")\n",
    "else:\n",
    "    print(\"You are not eligible to voote wait fo next year\")"
   ]
  },
  {
   "cell_type": "code",
   "execution_count": null,
   "id": "e47bd6ff-72b9-4493-b663-11a2ded59a5f",
   "metadata": {},
   "outputs": [],
   "source": []
  },
  {
   "cell_type": "code",
   "execution_count": null,
   "id": "c9ef263c-1727-4458-b402-97f0c7b7a2b4",
   "metadata": {},
   "outputs": [],
   "source": [
    "# if given number even or odd"
   ]
  },
  {
   "cell_type": "code",
   "execution_count": 27,
   "id": "0a897efb-6a53-4f38-9bda-833457932b43",
   "metadata": {},
   "outputs": [
    {
     "name": "stdin",
     "output_type": "stream",
     "text": [
      "Enter a number 45\n"
     ]
    },
    {
     "name": "stdout",
     "output_type": "stream",
     "text": [
      " the number 45 is odd\n"
     ]
    }
   ],
   "source": [
    "number = input(\"Enter a number\")\n",
    "number=int(number)\n",
    "if number%2==0:\n",
    "    print(f\" the number {number} is even\")\n",
    "else:\n",
    "    print(f\" the number {number} is odd\")\n",
    "    "
   ]
  },
  {
   "cell_type": "code",
   "execution_count": null,
   "id": "9eefbe9a-fc3d-42cf-886c-1fbfcf2f9470",
   "metadata": {},
   "outputs": [],
   "source": []
  },
  {
   "cell_type": "code",
   "execution_count": 28,
   "id": "c2b468ec-f27c-428a-a7d6-42ef3f9a3d42",
   "metadata": {},
   "outputs": [
    {
     "name": "stdin",
     "output_type": "stream",
     "text": [
      "Enter a number 66\n"
     ]
    },
    {
     "name": "stdout",
     "output_type": "stream",
     "text": [
      " the number 66 is even\n"
     ]
    }
   ],
   "source": [
    "number = input(\"Enter a number\")\n",
    "number=int(number)\n",
    "if number%2==0:\n",
    "    print(f\" the number {number} is even\")\n",
    "else:\n",
    "    print(f\" the number {number} is odd\")\n",
    "    "
   ]
  },
  {
   "cell_type": "code",
   "execution_count": null,
   "id": "5b9a8155-d34b-410a-bf92-7c2c4919430e",
   "metadata": {},
   "outputs": [],
   "source": []
  },
  {
   "cell_type": "code",
   "execution_count": null,
   "id": "fd84f499-ccba-4392-82e4-10f5f143d4b4",
   "metadata": {},
   "outputs": [],
   "source": []
  },
  {
   "cell_type": "code",
   "execution_count": null,
   "id": "2781359f-2ee7-420f-a3df-9ed522625a34",
   "metadata": {},
   "outputs": [],
   "source": []
  },
  {
   "cell_type": "code",
   "execution_count": null,
   "id": "5fd55569-4a2d-40eb-bffc-fb819c1c1fed",
   "metadata": {},
   "outputs": [],
   "source": []
  },
  {
   "cell_type": "code",
   "execution_count": null,
   "id": "3545fe53-f336-4e58-a50d-4c0ea3910948",
   "metadata": {},
   "outputs": [],
   "source": []
  },
  {
   "cell_type": "code",
   "execution_count": null,
   "id": "263c64c9-36cb-47b8-ae21-cac62d96cd5b",
   "metadata": {},
   "outputs": [],
   "source": []
  },
  {
   "cell_type": "code",
   "execution_count": null,
   "id": "16703712-7ed8-4e13-b716-c8fa710e37dc",
   "metadata": {},
   "outputs": [],
   "source": []
  },
  {
   "cell_type": "code",
   "execution_count": null,
   "id": "bcdb83e3-834f-49b2-82f0-08cc204bcd97",
   "metadata": {},
   "outputs": [],
   "source": []
  },
  {
   "cell_type": "code",
   "execution_count": null,
   "id": "121970c3-0ba7-4d40-a6cc-8edfc7db7750",
   "metadata": {},
   "outputs": [],
   "source": []
  },
  {
   "cell_type": "code",
   "execution_count": null,
   "id": "1afa201e-3668-4e63-9dd4-157d821af9c5",
   "metadata": {},
   "outputs": [],
   "source": []
  },
  {
   "cell_type": "code",
   "execution_count": null,
   "id": "e406c93f-0062-4680-9235-18ff1dfe99e3",
   "metadata": {},
   "outputs": [],
   "source": []
  },
  {
   "cell_type": "code",
   "execution_count": null,
   "id": "ad78c415-a338-420a-91f0-d81477e6ad54",
   "metadata": {},
   "outputs": [],
   "source": []
  },
  {
   "cell_type": "code",
   "execution_count": null,
   "id": "b6fd59a4-30e5-4087-a540-ee900c4cb5a6",
   "metadata": {},
   "outputs": [],
   "source": []
  },
  {
   "cell_type": "code",
   "execution_count": null,
   "id": "f28f4344-a24b-4ba5-854c-3d98900bc2f5",
   "metadata": {},
   "outputs": [],
   "source": []
  },
  {
   "cell_type": "code",
   "execution_count": null,
   "id": "237a9583-c826-4177-a3e7-ba68c27cd709",
   "metadata": {},
   "outputs": [],
   "source": []
  },
  {
   "cell_type": "code",
   "execution_count": null,
   "id": "e2c6b98e-2120-4047-aab7-eabe5d39a292",
   "metadata": {},
   "outputs": [],
   "source": []
  },
  {
   "cell_type": "code",
   "execution_count": null,
   "id": "ce15a5b1-374f-4a81-983c-659083236587",
   "metadata": {},
   "outputs": [],
   "source": []
  },
  {
   "cell_type": "code",
   "execution_count": null,
   "id": "6e6f4fef-03c1-493b-9459-a6eb527e8f34",
   "metadata": {},
   "outputs": [],
   "source": []
  },
  {
   "cell_type": "code",
   "execution_count": null,
   "id": "c62c5b7d-e0c0-4988-8931-2d4d4dfe91e2",
   "metadata": {},
   "outputs": [],
   "source": []
  }
 ],
 "metadata": {
  "kernelspec": {
   "display_name": "Python [conda env:base] *",
   "language": "python",
   "name": "conda-base-py"
  },
  "language_info": {
   "codemirror_mode": {
    "name": "ipython",
    "version": 3
   },
   "file_extension": ".py",
   "mimetype": "text/x-python",
   "name": "python",
   "nbconvert_exporter": "python",
   "pygments_lexer": "ipython3",
   "version": "3.13.5"
  }
 },
 "nbformat": 4,
 "nbformat_minor": 5
}
