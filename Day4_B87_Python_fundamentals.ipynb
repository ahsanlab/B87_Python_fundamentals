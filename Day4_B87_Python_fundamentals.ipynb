{
 "cells": [
  {
   "cell_type": "code",
   "execution_count": null,
   "id": "5108d6dc-1c86-4196-a56c-c2345c7ad06a",
   "metadata": {},
   "outputs": [],
   "source": [
    "Introduction to numbers:"
   ]
  },
  {
   "cell_type": "code",
   "execution_count": 3,
   "id": "0c491a0f-60a2-48bd-bb80-57324d16d820",
   "metadata": {},
   "outputs": [
    {
     "name": "stdout",
     "output_type": "stream",
     "text": [
      "123\n"
     ]
    }
   ],
   "source": [
    "number =123\n",
    "print(number)"
   ]
  },
  {
   "cell_type": "code",
   "execution_count": 4,
   "id": "586e58de-21e5-4a46-b791-cc04e2cef889",
   "metadata": {},
   "outputs": [
    {
     "data": {
      "text/plain": [
       "int"
      ]
     },
     "execution_count": 4,
     "metadata": {},
     "output_type": "execute_result"
    }
   ],
   "source": [
    "type(number)"
   ]
  },
  {
   "cell_type": "code",
   "execution_count": 5,
   "id": "b411e3b7-3a0d-4372-b8a5-ed0d7f79eac9",
   "metadata": {},
   "outputs": [
    {
     "name": "stdout",
     "output_type": "stream",
     "text": [
      "0.1\n"
     ]
    }
   ],
   "source": [
    "num2=0.1\n",
    "print(num2)"
   ]
  },
  {
   "cell_type": "code",
   "execution_count": 6,
   "id": "91765b12-a2a3-45d7-92f6-d957fcc28e73",
   "metadata": {},
   "outputs": [
    {
     "data": {
      "text/plain": [
       "float"
      ]
     },
     "execution_count": 6,
     "metadata": {},
     "output_type": "execute_result"
    }
   ],
   "source": [
    "type(num2)"
   ]
  },
  {
   "cell_type": "code",
   "execution_count": null,
   "id": "c0d5ca7e-6c1c-4cc2-99b6-a797c3d0bf71",
   "metadata": {},
   "outputs": [],
   "source": [
    "#Introduction to list datadtype:\n",
    "#definition: A list is a collection of items defined in a particular order\n",
    "#classification: It is classified as a mutable datatype(which we can edit/alter)\n",
    "#how to define list datatype : [] #square brackets."
   ]
  },
  {
   "cell_type": "code",
   "execution_count": null,
   "id": "5b896fda-c5f3-434d-bbf8-795b3755398c",
   "metadata": {},
   "outputs": [],
   "source": []
  },
  {
   "cell_type": "code",
   "execution_count": 11,
   "id": "737476fe-85d8-49ff-9db5-cadcea62b854",
   "metadata": {},
   "outputs": [
    {
     "name": "stdout",
     "output_type": "stream",
     "text": [
      "['arpita', 'ashwini', 'asma', 'bhuvan', 'david', 'karthik']\n"
     ]
    }
   ],
   "source": [
    "students = ['arpita', 'ashwini', 'asma', 'bhuvan', 'david', 'karthik']\n",
    "print(students)"
   ]
  },
  {
   "cell_type": "code",
   "execution_count": 12,
   "id": "46fcac4a-b402-4f2a-a9cf-e17803b5ff9c",
   "metadata": {},
   "outputs": [
    {
     "data": {
      "text/plain": [
       "list"
      ]
     },
     "execution_count": 12,
     "metadata": {},
     "output_type": "execute_result"
    }
   ],
   "source": [
    "type(students)"
   ]
  },
  {
   "cell_type": "code",
   "execution_count": null,
   "id": "a7f69dac-ddfb-4b31-bf0a-f3d366ca02e9",
   "metadata": {},
   "outputs": [],
   "source": []
  },
  {
   "cell_type": "code",
   "execution_count": null,
   "id": "1e922ae0-ca7a-4a73-b4ea-addcd0050f16",
   "metadata": {},
   "outputs": [],
   "source": [
    "#Introduction to Indexing : 0,1,2,3,4,5,6,...."
   ]
  },
  {
   "cell_type": "code",
   "execution_count": null,
   "id": "bdba3f46-9982-46c7-9c47-7331e61b16a2",
   "metadata": {},
   "outputs": [],
   "source": []
  },
  {
   "cell_type": "code",
   "execution_count": null,
   "id": "4222685c-a4bc-41f6-9b45-1b747182ae12",
   "metadata": {},
   "outputs": [],
   "source": [
    "# I want to access ashwini name in the output...?"
   ]
  },
  {
   "cell_type": "code",
   "execution_count": 16,
   "id": "a76282e3-a0f0-4a2c-a3d3-97005d5dad42",
   "metadata": {},
   "outputs": [
    {
     "name": "stdout",
     "output_type": "stream",
     "text": [
      "Ashwini\n"
     ]
    }
   ],
   "source": [
    "print(students[1].title())"
   ]
  },
  {
   "cell_type": "code",
   "execution_count": 17,
   "id": "a11e1563-2836-4fb1-b10b-a16790a159d4",
   "metadata": {},
   "outputs": [
    {
     "name": "stdout",
     "output_type": "stream",
     "text": [
      "Bhuvan\n"
     ]
    }
   ],
   "source": [
    "print(students[3].title())"
   ]
  },
  {
   "cell_type": "code",
   "execution_count": 19,
   "id": "ae320495-7f33-4d1c-91b0-345297bf6d15",
   "metadata": {},
   "outputs": [
    {
     "name": "stdout",
     "output_type": "stream",
     "text": [
      "['arpita', 'ashwini', 'asma', 'bhuvan', 'david', 'karthik', 'shafi', 'shafi']\n"
     ]
    }
   ],
   "source": [
    "students.append('shafi')\n",
    "print(students)"
   ]
  },
  {
   "cell_type": "raw",
   "id": "0a571498-3262-496c-9040-59def224c066",
   "metadata": {},
   "source": [
    "students.append('venkat')"
   ]
  },
  {
   "cell_type": "code",
   "execution_count": 20,
   "id": "4d83facc-fb0f-4f18-b81f-0354afa69d60",
   "metadata": {},
   "outputs": [
    {
     "name": "stdout",
     "output_type": "stream",
     "text": [
      "['arpita', 'ashwini', 'asma', 'bhuvan', 'david', 'karthik', 'shafi', 'shafi']\n"
     ]
    }
   ],
   "source": [
    "print(students)"
   ]
  },
  {
   "cell_type": "code",
   "execution_count": 22,
   "id": "12ebb419-7ce5-4dd2-b7b8-4d812a7d581d",
   "metadata": {},
   "outputs": [
    {
     "name": "stdout",
     "output_type": "stream",
     "text": [
      "['arpita', 'ashwini', 'asma', 'bhuvan', 'david', 'karthik', 'shafi', 'shafi', 'venkat', 'venkat']\n"
     ]
    }
   ],
   "source": [
    "students.append('venkat')\n",
    "print(students)"
   ]
  },
  {
   "cell_type": "code",
   "execution_count": null,
   "id": "ee3e56d0-f575-43d4-855d-91c88ac550c8",
   "metadata": {},
   "outputs": [],
   "source": []
  },
  {
   "cell_type": "code",
   "execution_count": 23,
   "id": "6e49d472-b271-4418-a673-a4ec8e54dc09",
   "metadata": {},
   "outputs": [
    {
     "name": "stdout",
     "output_type": "stream",
     "text": [
      "['arpita', 'ashwini', 'kaleem', 'asma', 'bhuvan', 'david', 'karthik', 'shafi', 'shafi', 'venkat', 'venkat']\n"
     ]
    }
   ],
   "source": [
    "students.insert(2, 'kaleem')\n",
    "print(students)"
   ]
  },
  {
   "cell_type": "code",
   "execution_count": null,
   "id": "5911dd1e-3c67-45e9-9040-b847eef2421e",
   "metadata": {},
   "outputs": [],
   "source": []
  },
  {
   "cell_type": "code",
   "execution_count": 24,
   "id": "f296f738-79a3-4ef7-a6b0-836d03f648fb",
   "metadata": {},
   "outputs": [
    {
     "name": "stdout",
     "output_type": "stream",
     "text": [
      "kaleem\n"
     ]
    }
   ],
   "source": [
    "print(students[2])"
   ]
  },
  {
   "cell_type": "code",
   "execution_count": null,
   "id": "1b8776e8-2fe1-4198-8e04-c9ca257eb2db",
   "metadata": {},
   "outputs": [],
   "source": []
  },
  {
   "cell_type": "code",
   "execution_count": 25,
   "id": "a1bf9880-262d-4f03-bf9c-6ce50fe21570",
   "metadata": {},
   "outputs": [
    {
     "name": "stdout",
     "output_type": "stream",
     "text": [
      "['arpita', 'ashwini', 'kaleem', 'asma', 'bhuvan', 'david', 'karthik', 'shafi', 'shafi', 'venkat', 'venkat']\n"
     ]
    }
   ],
   "source": [
    "print(students)"
   ]
  },
  {
   "cell_type": "code",
   "execution_count": null,
   "id": "e3a393eb-c9f1-4169-983f-79c0ea668ee9",
   "metadata": {},
   "outputs": [],
   "source": []
  },
  {
   "cell_type": "code",
   "execution_count": 26,
   "id": "26cbb57e-96a7-49d5-932e-1f6d6b11b779",
   "metadata": {},
   "outputs": [
    {
     "name": "stdout",
     "output_type": "stream",
     "text": [
      "['Anand', 'ashwini', 'kaleem', 'asma', 'bhuvan', 'david', 'karthik', 'shafi', 'shafi', 'venkat', 'venkat']\n"
     ]
    }
   ],
   "source": [
    "students[0] ='Anand'\n",
    "print(students)"
   ]
  },
  {
   "cell_type": "code",
   "execution_count": null,
   "id": "aeba0b74-4326-4267-9dc9-71d118d2fcb3",
   "metadata": {},
   "outputs": [],
   "source": []
  },
  {
   "cell_type": "code",
   "execution_count": null,
   "id": "7cad7df2-e09e-4338-a464-2ad6329ecc65",
   "metadata": {},
   "outputs": [],
   "source": [
    "del students[8]"
   ]
  },
  {
   "cell_type": "code",
   "execution_count": null,
   "id": "1d813cb8-68e8-444a-a2b4-0bf727027ae8",
   "metadata": {},
   "outputs": [],
   "source": []
  },
  {
   "cell_type": "code",
   "execution_count": null,
   "id": "71c64dcd-fd1c-49f5-ba14-eaff054f6e93",
   "metadata": {},
   "outputs": [],
   "source": []
  },
  {
   "cell_type": "code",
   "execution_count": null,
   "id": "81095311-bf66-477f-a283-86ce9f1a3950",
   "metadata": {},
   "outputs": [],
   "source": []
  },
  {
   "cell_type": "code",
   "execution_count": null,
   "id": "eafd63af-cee8-41d5-83c8-3d3f77ef325b",
   "metadata": {},
   "outputs": [],
   "source": []
  }
 ],
 "metadata": {
  "kernelspec": {
   "display_name": "Python [conda env:base] *",
   "language": "python",
   "name": "conda-base-py"
  },
  "language_info": {
   "codemirror_mode": {
    "name": "ipython",
    "version": 3
   },
   "file_extension": ".py",
   "mimetype": "text/x-python",
   "name": "python",
   "nbconvert_exporter": "python",
   "pygments_lexer": "ipython3",
   "version": "3.13.5"
  }
 },
 "nbformat": 4,
 "nbformat_minor": 5
}
