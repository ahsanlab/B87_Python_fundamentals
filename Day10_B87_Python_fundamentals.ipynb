{
 "cells": [
  {
   "cell_type": "code",
   "execution_count": 2,
   "id": "57151da1-193a-4de5-83a8-00319b04ca00",
   "metadata": {},
   "outputs": [
    {
     "name": "stdout",
     "output_type": "stream",
     "text": [
      "\n",
      "I have a dog\n",
      "my dog's name is bruno\n"
     ]
    }
   ],
   "source": [
    "def describe_pet(animal_type, pet_name):\n",
    "    print(f\"\\nI have a {animal_type}\")\n",
    "    print(f\"my {animal_type}'s name is {pet_name}\")\n",
    "describe_pet('dog', 'bruno')\n"
   ]
  },
  {
   "cell_type": "code",
   "execution_count": null,
   "id": "8f4572b7-0057-4ca6-9672-d64a15c6a2b3",
   "metadata": {},
   "outputs": [],
   "source": []
  },
  {
   "cell_type": "code",
   "execution_count": 3,
   "id": "a6085411-f49e-4a34-ad75-f516c79c05be",
   "metadata": {},
   "outputs": [
    {
     "ename": "TypeError",
     "evalue": "describe_pet() missing 1 required positional argument: 'pet_name'",
     "output_type": "error",
     "traceback": [
      "\u001b[1;31m---------------------------------------------------------------------------\u001b[0m",
      "\u001b[1;31mTypeError\u001b[0m                                 Traceback (most recent call last)",
      "Cell \u001b[1;32mIn[3], line 1\u001b[0m\n\u001b[1;32m----> 1\u001b[0m describe_pet(\u001b[38;5;124m'\u001b[39m\u001b[38;5;124mrex\u001b[39m\u001b[38;5;124m'\u001b[39m)\n",
      "\u001b[1;31mTypeError\u001b[0m: describe_pet() missing 1 required positional argument: 'pet_name'"
     ]
    }
   ],
   "source": [
    "describe_pet('rex')"
   ]
  },
  {
   "cell_type": "code",
   "execution_count": null,
   "id": "52513c80-e7fe-4de3-825d-e8d73e65cab9",
   "metadata": {},
   "outputs": [],
   "source": [
    "def describe_pet(pet_name, animal_type='dog'):\n",
    "    \"\"\" describe the information about the pet\"\"\"\n",
    "    print(f\"\\nI ahve a {animal_type}\")\n",
    "    print(f\"my {animal_type}'s name is {pet_name}\")\n"
   ]
  },
  {
   "cell_type": "code",
   "execution_count": 12,
   "id": "cebbdd0e-a245-429c-963b-75bd4e0f224b",
   "metadata": {},
   "outputs": [
    {
     "name": "stdout",
     "output_type": "stream",
     "text": [
      "\n",
      "I have a cat\n",
      "my cat's name is rex\n"
     ]
    }
   ],
   "source": [
    "describe_pet('cat','rex')"
   ]
  },
  {
   "cell_type": "code",
   "execution_count": null,
   "id": "f348e0e0-fa53-4eb1-b467-713456e0833a",
   "metadata": {},
   "outputs": [],
   "source": [
    "#Returning a simple value"
   ]
  },
  {
   "cell_type": "code",
   "execution_count": null,
   "id": "74c14870-1b49-4d15-a55f-fa4c13280e57",
   "metadata": {},
   "outputs": [],
   "source": [
    "# req: take a firstname and lastname and return with neatly formatted name"
   ]
  },
  {
   "cell_type": "code",
   "execution_count": 14,
   "id": "99ffb69d-1f49-4fe3-a624-f0e13b1764cd",
   "metadata": {},
   "outputs": [
    {
     "name": "stdout",
     "output_type": "stream",
     "text": [
      "Ahsan Farooque\n"
     ]
    }
   ],
   "source": [
    "def get_formatted_name(first_name, last_name):\n",
    "    \"\"\"return a fulname, neatly formatted\"\"\"\n",
    "    full_name=f\"{first_name} {last_name}\"\n",
    "    return full_name.title()\n",
    "person = get_formatted_name('ahsan', 'farooque')\n",
    "print(person)"
   ]
  },
  {
   "cell_type": "code",
   "execution_count": null,
   "id": "f3ee725d-6718-40b3-88c7-2ad1289c99a0",
   "metadata": {},
   "outputs": [],
   "source": [
    "#Passing arbitrary number of arguments:"
   ]
  },
  {
   "cell_type": "code",
   "execution_count": 15,
   "id": "ed6f8449-5890-4651-9680-9e373f53399a",
   "metadata": {},
   "outputs": [
    {
     "name": "stdout",
     "output_type": "stream",
     "text": [
      "olives\n"
     ]
    }
   ],
   "source": [
    "def make_pizza(toppings):\n",
    "    \"\"\"print the list of toppings that has been requuested\"\"\"\n",
    "    print(toppings)\n",
    "make_pizza('olives')"
   ]
  },
  {
   "cell_type": "code",
   "execution_count": 16,
   "id": "80b65ecf-d45b-4c6e-8a2d-982eb236d22b",
   "metadata": {},
   "outputs": [
    {
     "ename": "TypeError",
     "evalue": "make_pizza() takes 1 positional argument but 2 were given",
     "output_type": "error",
     "traceback": [
      "\u001b[1;31m---------------------------------------------------------------------------\u001b[0m",
      "\u001b[1;31mTypeError\u001b[0m                                 Traceback (most recent call last)",
      "Cell \u001b[1;32mIn[16], line 1\u001b[0m\n\u001b[1;32m----> 1\u001b[0m make_pizza(\u001b[38;5;124m'\u001b[39m\u001b[38;5;124molives\u001b[39m\u001b[38;5;124m'\u001b[39m, \u001b[38;5;124m'\u001b[39m\u001b[38;5;124mcorn\u001b[39m\u001b[38;5;124m'\u001b[39m)\n",
      "\u001b[1;31mTypeError\u001b[0m: make_pizza() takes 1 positional argument but 2 were given"
     ]
    }
   ],
   "source": [
    "make_pizza('olives', 'corn')"
   ]
  },
  {
   "cell_type": "code",
   "execution_count": 17,
   "id": "a620779c-2ee5-456f-80a6-2599f2a5a789",
   "metadata": {},
   "outputs": [
    {
     "ename": "TypeError",
     "evalue": "make_pizza() takes 1 positional argument but 3 were given",
     "output_type": "error",
     "traceback": [
      "\u001b[1;31m---------------------------------------------------------------------------\u001b[0m",
      "\u001b[1;31mTypeError\u001b[0m                                 Traceback (most recent call last)",
      "Cell \u001b[1;32mIn[17], line 1\u001b[0m\n\u001b[1;32m----> 1\u001b[0m make_pizza(\u001b[38;5;124m'\u001b[39m\u001b[38;5;124molives\u001b[39m\u001b[38;5;124m'\u001b[39m, \u001b[38;5;124m'\u001b[39m\u001b[38;5;124mcorn\u001b[39m\u001b[38;5;124m'\u001b[39m, \u001b[38;5;124m'\u001b[39m\u001b[38;5;124monion\u001b[39m\u001b[38;5;124m'\u001b[39m)\n",
      "\u001b[1;31mTypeError\u001b[0m: make_pizza() takes 1 positional argument but 3 were given"
     ]
    }
   ],
   "source": [
    "make_pizza('olives', 'corn', 'onion')"
   ]
  },
  {
   "cell_type": "code",
   "execution_count": null,
   "id": "039d0f76-dcbb-4791-8b3a-a6dfc4bf3cf7",
   "metadata": {},
   "outputs": [],
   "source": []
  },
  {
   "cell_type": "code",
   "execution_count": 18,
   "id": "1eb4bb14-255e-4d58-bf5d-0b81974725c9",
   "metadata": {},
   "outputs": [
    {
     "name": "stdout",
     "output_type": "stream",
     "text": [
      "('olives', 'corn')\n"
     ]
    }
   ],
   "source": [
    "def make_pizza(*toppings):\n",
    "    \"\"\"print the list of toppings that has been requuested\"\"\"\n",
    "    print(toppings)\n",
    "make_pizza('olives', 'corn')"
   ]
  },
  {
   "cell_type": "code",
   "execution_count": 19,
   "id": "9aee1884-1b0c-40cd-96c4-645e35725a58",
   "metadata": {},
   "outputs": [
    {
     "name": "stdout",
     "output_type": "stream",
     "text": [
      "('olives', 'corn', 'onion')\n"
     ]
    }
   ],
   "source": [
    "make_pizza('olives', 'corn', 'onion')"
   ]
  },
  {
   "cell_type": "code",
   "execution_count": 20,
   "id": "ac39f06e-e92f-4ba4-afd3-670527e6a726",
   "metadata": {},
   "outputs": [
    {
     "name": "stdout",
     "output_type": "stream",
     "text": [
      "\n",
      "making the pizza with the below toppings\n",
      " -olives\n",
      " -corn\n",
      " -onion\n"
     ]
    }
   ],
   "source": [
    "def make_pizza(*toppings):\n",
    "    \"\"\"Summarize the pizza that i requested\"\"\"\n",
    "    print(\"\\nmaking the pizza with the below toppings\")\n",
    "    for a in toppings:\n",
    "        print(f\" -{a}\")\n",
    "make_pizza('olives', 'corn', 'onion')"
   ]
  },
  {
   "cell_type": "code",
   "execution_count": null,
   "id": "13531e27-cbee-4931-a9d8-21eb3ff21097",
   "metadata": {},
   "outputs": [],
   "source": [
    "#mixing positional and arbitrary arguments"
   ]
  },
  {
   "cell_type": "code",
   "execution_count": 24,
   "id": "fc5f621e-a2f1-4811-9697-ee8a2af1a6f1",
   "metadata": {},
   "outputs": [
    {
     "name": "stdout",
     "output_type": "stream",
     "text": [
      "\n",
      "making a 12 inch pizza with the below toppings\n",
      "-olives\n",
      "-corn\n"
     ]
    }
   ],
   "source": [
    "def make_pizza(size, *toppings):\n",
    "    \"\"\"Summarize the pizza that i want to make\"\"\"\n",
    "    print(f\"\\nmaking a {size} inch pizza with the below toppings\")\n",
    "    for a in toppings:\n",
    "        print(f\"-{a}\")\n",
    "make_pizza(12, 'olives', 'corn')"
   ]
  },
  {
   "cell_type": "code",
   "execution_count": null,
   "id": "8b0fc6bb-0b66-4078-af96-da4f1c21d195",
   "metadata": {},
   "outputs": [],
   "source": []
  },
  {
   "cell_type": "code",
   "execution_count": null,
   "id": "6d6011b6-a426-4dc3-8bf4-72f460ec5c18",
   "metadata": {},
   "outputs": [],
   "source": []
  },
  {
   "cell_type": "code",
   "execution_count": null,
   "id": "7da537d7-a537-4d29-b931-7ec952c3116d",
   "metadata": {},
   "outputs": [],
   "source": []
  },
  {
   "cell_type": "code",
   "execution_count": null,
   "id": "f0380285-8770-48c5-a4fc-7c20fce9428f",
   "metadata": {},
   "outputs": [],
   "source": []
  },
  {
   "cell_type": "code",
   "execution_count": null,
   "id": "116acdc2-62ab-4451-b9ec-2d63a6f56f9f",
   "metadata": {},
   "outputs": [],
   "source": []
  },
  {
   "cell_type": "code",
   "execution_count": null,
   "id": "5f17d220-793f-456c-83b8-9425e1c7e348",
   "metadata": {},
   "outputs": [],
   "source": []
  },
  {
   "cell_type": "code",
   "execution_count": null,
   "id": "46a4996a-31d2-41fb-94ec-bfcef16c44a5",
   "metadata": {},
   "outputs": [],
   "source": []
  },
  {
   "cell_type": "code",
   "execution_count": null,
   "id": "7f57e646-3b18-4d2c-9dfc-78a58abcab79",
   "metadata": {},
   "outputs": [],
   "source": []
  },
  {
   "cell_type": "code",
   "execution_count": null,
   "id": "3bbfe78a-6e71-4d81-8a2a-b3eb95b5c5bd",
   "metadata": {},
   "outputs": [],
   "source": []
  },
  {
   "cell_type": "code",
   "execution_count": null,
   "id": "d37e7f38-a4a4-4425-93a4-d13c2f82110a",
   "metadata": {},
   "outputs": [],
   "source": []
  },
  {
   "cell_type": "code",
   "execution_count": null,
   "id": "8dda7c68-c206-46b3-99c2-ccd0e166ce67",
   "metadata": {},
   "outputs": [],
   "source": []
  },
  {
   "cell_type": "code",
   "execution_count": null,
   "id": "7125e8bb-a231-4b8f-96be-2fa8b61cf5df",
   "metadata": {},
   "outputs": [],
   "source": []
  },
  {
   "cell_type": "code",
   "execution_count": null,
   "id": "be2a0a59-fb28-464d-b009-5fd75948c6d0",
   "metadata": {},
   "outputs": [],
   "source": []
  },
  {
   "cell_type": "code",
   "execution_count": null,
   "id": "c838079b-a4e2-4187-a673-8a0153b2ffd5",
   "metadata": {},
   "outputs": [],
   "source": []
  },
  {
   "cell_type": "code",
   "execution_count": null,
   "id": "8560257f-9a05-4cc9-aef8-aa30147e12c6",
   "metadata": {},
   "outputs": [],
   "source": []
  },
  {
   "cell_type": "code",
   "execution_count": null,
   "id": "c52572d3-084f-4dc7-a385-623b1a82f302",
   "metadata": {},
   "outputs": [],
   "source": []
  },
  {
   "cell_type": "code",
   "execution_count": null,
   "id": "8e57d1f8-f732-4507-9d98-32542a06027c",
   "metadata": {},
   "outputs": [],
   "source": []
  },
  {
   "cell_type": "code",
   "execution_count": null,
   "id": "57135d5b-cd05-45de-b6d1-85678c8e37f0",
   "metadata": {},
   "outputs": [],
   "source": []
  },
  {
   "cell_type": "code",
   "execution_count": null,
   "id": "bdbdfbe0-cbf6-4942-859c-34d8503a02fd",
   "metadata": {},
   "outputs": [],
   "source": []
  },
  {
   "cell_type": "code",
   "execution_count": null,
   "id": "faeab14a-2d05-470a-9077-160512475b09",
   "metadata": {},
   "outputs": [],
   "source": []
  },
  {
   "cell_type": "code",
   "execution_count": null,
   "id": "c264a420-7c11-4b0d-b370-15e244e14690",
   "metadata": {},
   "outputs": [],
   "source": []
  },
  {
   "cell_type": "code",
   "execution_count": null,
   "id": "2302f353-63d1-42e7-b48d-bfd0d72bd552",
   "metadata": {},
   "outputs": [],
   "source": []
  },
  {
   "cell_type": "code",
   "execution_count": null,
   "id": "9b783b36-d95f-4606-9418-78f293ba47f3",
   "metadata": {},
   "outputs": [],
   "source": []
  },
  {
   "cell_type": "code",
   "execution_count": null,
   "id": "87dbb8b5-3a7f-4120-a964-4bde846513de",
   "metadata": {},
   "outputs": [],
   "source": []
  },
  {
   "cell_type": "code",
   "execution_count": null,
   "id": "5efbff36-85ef-4edd-aee4-4dd33d1b3bc0",
   "metadata": {},
   "outputs": [],
   "source": []
  },
  {
   "cell_type": "code",
   "execution_count": null,
   "id": "888d471d-e9ea-4f15-a550-6ff428d60909",
   "metadata": {},
   "outputs": [],
   "source": []
  },
  {
   "cell_type": "code",
   "execution_count": null,
   "id": "b37adb0b-e757-4316-bb96-2d7281913130",
   "metadata": {},
   "outputs": [],
   "source": []
  },
  {
   "cell_type": "code",
   "execution_count": null,
   "id": "fffdfbec-a358-44e5-9404-124e396f5d3d",
   "metadata": {},
   "outputs": [],
   "source": []
  },
  {
   "cell_type": "code",
   "execution_count": null,
   "id": "a80aedc2-678c-4b96-bdbf-ca13327e34a2",
   "metadata": {},
   "outputs": [],
   "source": []
  },
  {
   "cell_type": "code",
   "execution_count": null,
   "id": "23790228-a31a-4cb0-a376-25a64f13e5a3",
   "metadata": {},
   "outputs": [],
   "source": []
  },
  {
   "cell_type": "code",
   "execution_count": null,
   "id": "0ea4ae26-9e9e-4bf4-a94b-b89a72a6dce1",
   "metadata": {},
   "outputs": [],
   "source": []
  },
  {
   "cell_type": "code",
   "execution_count": null,
   "id": "80f824a3-3992-423f-a0b9-21da97009bcc",
   "metadata": {},
   "outputs": [],
   "source": []
  },
  {
   "cell_type": "code",
   "execution_count": null,
   "id": "572aec59-8b42-424e-9b9b-44ae3a679b53",
   "metadata": {},
   "outputs": [],
   "source": []
  },
  {
   "cell_type": "code",
   "execution_count": null,
   "id": "0397dcc5-1ec3-4da9-8002-fc86a43e8683",
   "metadata": {},
   "outputs": [],
   "source": []
  },
  {
   "cell_type": "code",
   "execution_count": null,
   "id": "c92ae2d3-738e-4d4d-8ad6-ae5ca303da18",
   "metadata": {},
   "outputs": [],
   "source": []
  },
  {
   "cell_type": "code",
   "execution_count": null,
   "id": "993ec2ff-7eed-4205-840e-2fdb860b7abf",
   "metadata": {},
   "outputs": [],
   "source": []
  }
 ],
 "metadata": {
  "kernelspec": {
   "display_name": "Python [conda env:base] *",
   "language": "python",
   "name": "conda-base-py"
  },
  "language_info": {
   "codemirror_mode": {
    "name": "ipython",
    "version": 3
   },
   "file_extension": ".py",
   "mimetype": "text/x-python",
   "name": "python",
   "nbconvert_exporter": "python",
   "pygments_lexer": "ipython3",
   "version": "3.13.5"
  }
 },
 "nbformat": 4,
 "nbformat_minor": 5
}
