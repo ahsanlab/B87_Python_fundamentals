{
 "cells": [
  {
   "cell_type": "code",
   "execution_count": 1,
   "id": "da4b4aa6-966b-4854-89c8-fc18d7ba7a4b",
   "metadata": {},
   "outputs": [
    {
     "name": "stdout",
     "output_type": "stream",
     "text": [
      "Pytho\n"
     ]
    }
   ],
   "source": [
    "course='Python for Beginners'\n",
    "print(course[:5])"
   ]
  },
  {
   "cell_type": "code",
   "execution_count": 3,
   "id": "4e6f2e3b-169d-4c51-9aad-7542f653198d",
   "metadata": {},
   "outputs": [
    {
     "name": "stdout",
     "output_type": "stream",
     "text": [
      "ennife\n"
     ]
    }
   ],
   "source": [
    "name='Jennifer'\n",
    "print(name[1:-1])"
   ]
  },
  {
   "cell_type": "code",
   "execution_count": 4,
   "id": "23b70bb7-daab-4f39-9638-c8efc74c7c20",
   "metadata": {},
   "outputs": [
    {
     "name": "stdout",
     "output_type": "stream",
     "text": [
      "Farooque[Ahsan]is a coder\n",
      "Farooque [Ahsan] is a coder\n"
     ]
    }
   ],
   "source": [
    "first_name= 'Farooque'\n",
    "last_name = 'Ahsan'\n",
    "message = first_name + '['+last_name +']is a coder'\n",
    "msg = f'{first_name} [{last_name}] is a coder'\n",
    "print(message)\n",
    "print(msg)"
   ]
  },
  {
   "cell_type": "code",
   "execution_count": null,
   "id": "49fc286f-ddb2-439b-b3a7-c7f31e20e892",
   "metadata": {},
   "outputs": [],
   "source": [
    "# string methods"
   ]
  },
  {
   "cell_type": "code",
   "execution_count": 15,
   "id": "58dd9665-f9d9-4891-b55c-023e86152504",
   "metadata": {},
   "outputs": [
    {
     "name": "stdout",
     "output_type": "stream",
     "text": [
      "20\n",
      "PYTHON FOR BEGINNERS\n",
      "python for beginners\n",
      "Python for Beginners\n",
      "0\n",
      "-1\n",
      "4\n",
      "11\n",
      "Python for Absolute Beginners\n",
      "True\n",
      "False\n"
     ]
    }
   ],
   "source": [
    "course = 'Python for Beginners'\n",
    "print(len(course))\n",
    "print(course.upper())\n",
    "print(course.lower())\n",
    "print(course)\n",
    "print(course.find('P'))\n",
    "print(course.find('p'))\n",
    "print(course.find('o'))\n",
    "print(course.find('Beginners'))\n",
    "print(course.replace('Beginners', 'Absolute Beginners'))\n",
    "print('Python' in course)\n",
    "print('python' in course)"
   ]
  },
  {
   "cell_type": "code",
   "execution_count": null,
   "id": "f640a946-8c16-458f-94aa-fdfc80eae5ed",
   "metadata": {},
   "outputs": [],
   "source": [
    "# Arihematic Operation"
   ]
  },
  {
   "cell_type": "code",
   "execution_count": 18,
   "id": "bfa08422-366d-41ea-9bab-a96ef99ba777",
   "metadata": {},
   "outputs": [
    {
     "name": "stdout",
     "output_type": "stream",
     "text": [
      "3.3333333333333335\n",
      "3\n",
      "1000\n"
     ]
    }
   ],
   "source": [
    "print(10/3)\n",
    "print(10//3)\n",
    "print(10**3)"
   ]
  },
  {
   "cell_type": "code",
   "execution_count": null,
   "id": "e8a5a7bb-6602-4b12-b099-451385a43e15",
   "metadata": {},
   "outputs": [],
   "source": [
    "# Operator Precedence"
   ]
  },
  {
   "cell_type": "code",
   "execution_count": 21,
   "id": "dbb218d9-e40b-4505-bc9b-74c0cf2b3657",
   "metadata": {},
   "outputs": [
    {
     "name": "stdout",
     "output_type": "stream",
     "text": [
      "52\n"
     ]
    }
   ],
   "source": [
    "x=(10+3)*2 **2\n",
    "# order of operation\n",
    "'''\n",
    "parenthesis\n",
    "exponentiation 2*3\n",
    "multiplication or division\n",
    "addition or subtraction \n",
    "'''\n",
    "print(x)"
   ]
  },
  {
   "cell_type": "code",
   "execution_count": null,
   "id": "54fa8d5b-48c0-4898-9eb4-a6d223deeabe",
   "metadata": {},
   "outputs": [],
   "source": [
    "#Math Functions"
   ]
  },
  {
   "cell_type": "code",
   "execution_count": 27,
   "id": "1acdc2a6-64e6-4745-9b13-2fb9e2adb41a",
   "metadata": {},
   "outputs": [
    {
     "name": "stdout",
     "output_type": "stream",
     "text": [
      "3\n",
      "2.9\n",
      "3\n",
      "2\n"
     ]
    }
   ],
   "source": [
    "import math\n",
    "x=2.9\n",
    "print(round(x))\n",
    "print(abs(-2.9))\n",
    "print(math.ceil(2.9))\n",
    "print(math.floor(2.9))"
   ]
  },
  {
   "cell_type": "code",
   "execution_count": null,
   "id": "571aad8f-4ec7-4492-841a-3533461e4a0f",
   "metadata": {},
   "outputs": [],
   "source": [
    "# if statements "
   ]
  },
  {
   "cell_type": "code",
   "execution_count": 33,
   "id": "128be762-1afd-41cd-9d1d-50dba9ab4b3a",
   "metadata": {},
   "outputs": [
    {
     "name": "stdout",
     "output_type": "stream",
     "text": [
      "It's a cold day\n",
      "Wear warm clothes\n",
      "Enjoy your day\n"
     ]
    }
   ],
   "source": [
    "is_hot = False\n",
    "is_cold = True\n",
    "if is_hot:\n",
    "    print(\"It's a hot day\")\n",
    "    print(\"Drink plenty of water\")\n",
    "elif is_cold:\n",
    "    print(\"It's a cold day\")\n",
    "    print(\"Wear warm clothes\")\n",
    "else:\n",
    "    print(\"It's a lovely day\")\n",
    "    \n",
    "print(\"Enjoy your day\")"
   ]
  },
  {
   "cell_type": "code",
   "execution_count": 42,
   "id": "6b2be465-81f3-4da9-87d4-e311d0d5bacb",
   "metadata": {},
   "outputs": [
    {
     "name": "stdout",
     "output_type": "stream",
     "text": [
      "You need to pay 10% down\n",
      "Down Payment: $100000.0\n"
     ]
    }
   ],
   "source": [
    "#Exercise:\n",
    "'''Price of a house is $iM\n",
    "If buyer has good credit,\n",
    "they need to put down 10%\n",
    "otherwise\n",
    "they need to put down 20%\n",
    "print the down payment\n",
    "'''\n",
    "house_price = 1000000\n",
    "good_credit= True\n",
    "bad_credit= True\n",
    "if good_credit:\n",
    "    down_payment = 0.1*house_price\n",
    "    print(\"You need to pay 10% down\")\n",
    "elif bad_credit:\n",
    "    down_payment = 0.2*house_price\n",
    "    print(\"You need to pay down 20%\")\n",
    "else:\n",
    "    print(\"Give chance to another buyer\")\n",
    "print(f\"Down Payment: ${down_payment}\")\n",
    "\n"
   ]
  },
  {
   "cell_type": "code",
   "execution_count": null,
   "id": "fad9e5e4-908c-4e4f-9ccc-42aa04953ba2",
   "metadata": {},
   "outputs": [],
   "source": [
    "#Logical Operator"
   ]
  },
  {
   "cell_type": "code",
   "execution_count": 45,
   "id": "164628cc-a8b7-4192-a2ce-779d47c7adb6",
   "metadata": {},
   "outputs": [
    {
     "name": "stdout",
     "output_type": "stream",
     "text": [
      "Eligible for loan\n"
     ]
    }
   ],
   "source": [
    "has_good_credit = True\n",
    "has_criminal_record = False\n",
    "if has_good_credit and not has_criminal_record:\n",
    "    print(\"Eligible for loan\")"
   ]
  },
  {
   "cell_type": "code",
   "execution_count": null,
   "id": "6299f606-88d2-4c18-849e-89d98b2092fd",
   "metadata": {},
   "outputs": [],
   "source": [
    "# Comparison Operator"
   ]
  },
  {
   "cell_type": "code",
   "execution_count": 47,
   "id": "ff85f037-a174-4b1c-b81b-4734b4d48b7a",
   "metadata": {},
   "outputs": [
    {
     "name": "stdout",
     "output_type": "stream",
     "text": [
      "Name must be at least 3 characters.\n"
     ]
    }
   ],
   "source": [
    "name=\"J\"\n",
    "if len(name) < 3:\n",
    "    print(\"Name must be at least 3 characters.\")\n",
    "elif len(name) > 50:\n",
    "    print(\"Name must be a maximum of 50 characters.\")\n",
    "else:\n",
    "    print(\"Name looks good!\")"
   ]
  },
  {
   "cell_type": "code",
   "execution_count": null,
   "id": "72f0e765-db5d-470a-a686-2333ed04ccc9",
   "metadata": {},
   "outputs": [],
   "source": [
    "# Weight Convreter"
   ]
  },
  {
   "cell_type": "code",
   "execution_count": 50,
   "id": "e9f8de67-c94d-4f02-b39e-a37372ae738c",
   "metadata": {},
   "outputs": [
    {
     "name": "stdin",
     "output_type": "stream",
     "text": [
      "Enter weight to convert:  70\n",
      "(L)bs or (K)g:  k\n"
     ]
    },
    {
     "name": "stdout",
     "output_type": "stream",
     "text": [
      "You are 155.55555555555554 pounds\n"
     ]
    }
   ],
   "source": [
    "weight=int(input(\"Enter weight to convert: \"))\n",
    "units = input('(L)bs or (K)g: ')\n",
    "if units.upper() == \"L\":\n",
    "    converted = weight*0.45\n",
    "    print(f\"You are {converted} kilos\")\n",
    "else:\n",
    "    converted = weight / 0.45\n",
    "    print(f\"You are {converted} pounds\")"
   ]
  },
  {
   "cell_type": "code",
   "execution_count": null,
   "id": "79c0be56-0743-4c00-919c-457679b202b5",
   "metadata": {},
   "outputs": [],
   "source": [
    "#while loop:"
   ]
  },
  {
   "cell_type": "code",
   "execution_count": 52,
   "id": "d95f3d1c-1f4b-42a8-afc8-267b2c1eb48d",
   "metadata": {},
   "outputs": [
    {
     "name": "stdout",
     "output_type": "stream",
     "text": [
      "*\n",
      "**\n",
      "***\n",
      "****\n",
      "*****\n",
      "Done\n"
     ]
    }
   ],
   "source": [
    "i=1\n",
    "while i <=5:\n",
    "    print('*' * i)\n",
    "    i=i+1\n",
    "print(\"Done\")"
   ]
  },
  {
   "cell_type": "code",
   "execution_count": null,
   "id": "f3f3e40f-c442-46b6-a73f-0384b5495e9d",
   "metadata": {},
   "outputs": [],
   "source": [
    "# Guessing Game"
   ]
  },
  {
   "cell_type": "code",
   "execution_count": 57,
   "id": "c5689b81-acf2-4008-aee7-dc910c353e30",
   "metadata": {},
   "outputs": [
    {
     "name": "stdin",
     "output_type": "stream",
     "text": [
      "Guess:  9\n"
     ]
    },
    {
     "name": "stdout",
     "output_type": "stream",
     "text": [
      "You won!\n"
     ]
    }
   ],
   "source": [
    "secret_number = 9\n",
    "guess_count =0\n",
    "guess_limit = 3\n",
    "while guess_count < guess_limit:\n",
    "    guess = int(input('Guess: '))\n",
    "    guess_count +=1\n",
    "    if guess == secret_number:\n",
    "                print('You won!')\n",
    "                break\n",
    "else:\n",
    "    print('Sorry you loosen')"
   ]
  },
  {
   "cell_type": "code",
   "execution_count": null,
   "id": "fe2fea3f-4e66-4fe0-aefa-1a5052acf7b5",
   "metadata": {},
   "outputs": [],
   "source": [
    "# Car Game"
   ]
  },
  {
   "cell_type": "code",
   "execution_count": 1,
   "id": "67ac5a02-e393-4af4-9029-a63222611612",
   "metadata": {},
   "outputs": [],
   "source": [
    "command = \"\"\n",
    "while False:\n",
    "    command = input(\"> \").lower()\n",
    "    if command == \"start\":\n",
    "        print(\"Car started...\")\n",
    "    elif command == \"stop\":\n",
    "        print(\"Car stopped.\")\n",
    "    elif command == \"help\":\n",
    "        print(\"\"\"\n",
    "        start - to start the car\n",
    "        stop - to stop the car\n",
    "        quit - to quit\n",
    "        \"\"\")\n",
    "    elif command == \"quit\":\n",
    "        break\n",
    "    else:\n",
    "        print(\"Sorry, I don't understand this\")"
   ]
  },
  {
   "cell_type": "code",
   "execution_count": 3,
   "id": "798fc4f4-a590-4a94-8e07-d30a5ce67096",
   "metadata": {},
   "outputs": [
    {
     "data": {
      "text/plain": [
       "9"
      ]
     },
     "execution_count": 3,
     "metadata": {},
     "output_type": "execute_result"
    }
   ],
   "source": [
    "4+5"
   ]
  },
  {
   "cell_type": "code",
   "execution_count": 6,
   "id": "13d49e15-dfab-45dd-99a8-3950768a0345",
   "metadata": {},
   "outputs": [
    {
     "name": "stdin",
     "output_type": "stream",
     "text": [
      ">  start\n"
     ]
    },
    {
     "name": "stdout",
     "output_type": "stream",
     "text": [
      "Car started...\n"
     ]
    },
    {
     "name": "stdin",
     "output_type": "stream",
     "text": [
      ">  start\n"
     ]
    },
    {
     "name": "stdout",
     "output_type": "stream",
     "text": [
      "Car is already started!\n"
     ]
    },
    {
     "name": "stdin",
     "output_type": "stream",
     "text": [
      ">  stop\n"
     ]
    },
    {
     "name": "stdout",
     "output_type": "stream",
     "text": [
      "Car stopped.\n"
     ]
    },
    {
     "name": "stdin",
     "output_type": "stream",
     "text": [
      ">  stop\n"
     ]
    },
    {
     "name": "stdout",
     "output_type": "stream",
     "text": [
      "CAr is already stopped!\n"
     ]
    },
    {
     "name": "stdin",
     "output_type": "stream",
     "text": [
      ">  help\n"
     ]
    },
    {
     "name": "stdout",
     "output_type": "stream",
     "text": [
      "\n",
      "        start - to start the car\n",
      "        stop - to stop the car\n",
      "        quit - to quit\n",
      "        \n"
     ]
    },
    {
     "name": "stdin",
     "output_type": "stream",
     "text": [
      ">  quit\n"
     ]
    }
   ],
   "source": [
    "command = \"\"\n",
    "started = False\n",
    "while True:\n",
    "    command = input(\"> \").lower()\n",
    "    if command == \"start\":\n",
    "        if started:\n",
    "            print(\"Car is already started!\")\n",
    "        else:\n",
    "            started = True\n",
    "            print(\"Car started...\")\n",
    "    elif command == \"stop\":\n",
    "        if not started:\n",
    "            print(\"CAr is already stopped!\")\n",
    "        else:\n",
    "            started = False\n",
    "            print(\"Car stopped.\")\n",
    "    elif command == \"help\":\n",
    "        print(\"\"\"\n",
    "        start - to start the car\n",
    "        stop - to stop the car\n",
    "        quit - to quit\n",
    "        \"\"\")\n",
    "    elif command == \"quit\":\n",
    "        break\n",
    "    else:\n",
    "        print(\"Sorry, I don't understand this\")"
   ]
  },
  {
   "cell_type": "code",
   "execution_count": null,
   "id": "d861cdda-a888-478c-ad81-cde3e3ca4d74",
   "metadata": {},
   "outputs": [],
   "source": [
    "# nested for loop"
   ]
  },
  {
   "cell_type": "code",
   "execution_count": 10,
   "id": "5bb84855-60ea-4710-9ec4-e1ff8e996ab1",
   "metadata": {},
   "outputs": [
    {
     "name": "stdout",
     "output_type": "stream",
     "text": [
      "xxxxx\n",
      "xx\n",
      "xxxxx\n",
      "xx\n",
      "xx\n"
     ]
    }
   ],
   "source": [
    "numbers = [5,2,5,2,2]\n",
    "for x in numbers:\n",
    "    print('x' * x)"
   ]
  },
  {
   "cell_type": "code",
   "execution_count": 11,
   "id": "3c468afb-c226-4c6c-93ea-48d0881739f3",
   "metadata": {},
   "outputs": [
    {
     "name": "stdout",
     "output_type": "stream",
     "text": [
      " xxxxx\n",
      " xx\n",
      " xxxxx\n",
      " xx\n",
      " xx\n"
     ]
    }
   ],
   "source": [
    "numbers = [5,2,5,2,2]\n",
    "for x_count in numbers:\n",
    "    output = ' '\n",
    "    for count in range(x_count):\n",
    "        output += 'x'\n",
    "    print(output)\n"
   ]
  },
  {
   "cell_type": "code",
   "execution_count": null,
   "id": "8ee08505-04ca-4d31-bc61-f0578be094af",
   "metadata": {},
   "outputs": [],
   "source": [
    "#find out max number"
   ]
  },
  {
   "cell_type": "code",
   "execution_count": 12,
   "id": "3456940f-08d9-4b89-b802-ecb0e7a3c4d4",
   "metadata": {},
   "outputs": [
    {
     "name": "stdout",
     "output_type": "stream",
     "text": [
      "10\n"
     ]
    }
   ],
   "source": [
    "numbers = [3,6,2,8,4,10]\n",
    "max=numbers[0]\n",
    "for number in numbers:\n",
    "    if number >max:\n",
    "        max=number\n",
    "print(max)"
   ]
  },
  {
   "cell_type": "code",
   "execution_count": null,
   "id": "d54a7cfa-1daf-4681-b52c-1a57613d8692",
   "metadata": {},
   "outputs": [],
   "source": [
    "# 2D list"
   ]
  },
  {
   "cell_type": "code",
   "execution_count": 15,
   "id": "2b302a45-3097-420a-a0eb-28fc742adac1",
   "metadata": {},
   "outputs": [
    {
     "name": "stdout",
     "output_type": "stream",
     "text": [
      "2\n"
     ]
    }
   ],
   "source": [
    "matrix = [\n",
    "    [1 ,2 ,3],\n",
    "    [4, 5, 6],\n",
    "    [7, 8, 9]\n",
    "]\n",
    "print(matrix[0][1])"
   ]
  },
  {
   "cell_type": "code",
   "execution_count": 18,
   "id": "8cec7599-9c54-42dc-8db3-806eaf649421",
   "metadata": {},
   "outputs": [
    {
     "name": "stdout",
     "output_type": "stream",
     "text": [
      "[2, 3, 4, 6, 1]\n"
     ]
    }
   ],
   "source": [
    "numbers = [2,3,4,6,3,4,6,1]\n",
    "uniques = []\n",
    "for number in numbers:\n",
    "    if number not in uniques:\n",
    "        uniques.append(number)\n",
    "print(uniques)"
   ]
  },
  {
   "cell_type": "code",
   "execution_count": null,
   "id": "29eefd08-019a-4d8d-a669-d60aa1492f1c",
   "metadata": {},
   "outputs": [],
   "source": [
    "#Tuple"
   ]
  },
  {
   "cell_type": "code",
   "execution_count": 20,
   "id": "516944f3-d6bd-49cf-b353-253a8cfe8386",
   "metadata": {},
   "outputs": [
    {
     "ename": "TypeError",
     "evalue": "'tuple' object does not support item assignment",
     "output_type": "error",
     "traceback": [
      "\u001b[1;31m---------------------------------------------------------------------------\u001b[0m",
      "\u001b[1;31mTypeError\u001b[0m                                 Traceback (most recent call last)",
      "Cell \u001b[1;32mIn[20], line 2\u001b[0m\n\u001b[0;32m      1\u001b[0m numbers\u001b[38;5;241m=\u001b[39m(\u001b[38;5;241m1\u001b[39m,\u001b[38;5;241m2\u001b[39m,\u001b[38;5;241m3\u001b[39m)\n\u001b[1;32m----> 2\u001b[0m numbers[\u001b[38;5;241m0\u001b[39m]\u001b[38;5;241m=\u001b[39m\u001b[38;5;241m10\u001b[39m\n\u001b[0;32m      3\u001b[0m \u001b[38;5;28mprint\u001b[39m(numbers[\u001b[38;5;241m0\u001b[39m])\n",
      "\u001b[1;31mTypeError\u001b[0m: 'tuple' object does not support item assignment"
     ]
    }
   ],
   "source": [
    "numbers=(1,2,3)\n",
    "numbers[0]=10\n",
    "print(numbers[0])"
   ]
  },
  {
   "cell_type": "code",
   "execution_count": 22,
   "id": "5aa5f3bc-2089-493d-8ea8-f16099d06efb",
   "metadata": {},
   "outputs": [
    {
     "name": "stdin",
     "output_type": "stream",
     "text": [
      "> Good morning sunshine\n"
     ]
    },
    {
     "name": "stdout",
     "output_type": "stream",
     "text": [
      "['Good', 'morning', 'sunshine']\n"
     ]
    }
   ],
   "source": [
    "import emojis\n",
    "message = input(\">\")\n",
    "words = message.split(' ')\n",
    "emojis = {\n",
    "    \":)\" : \"\"\n",
    "}\n",
    "print(words)"
   ]
  },
  {
   "cell_type": "code",
   "execution_count": null,
   "id": "30ee59fb-d484-45c2-bf01-e1acb7e1dcbb",
   "metadata": {},
   "outputs": [],
   "source": [
    "# functions"
   ]
  },
  {
   "cell_type": "code",
   "execution_count": 23,
   "id": "ad5cb4e1-3a60-4287-b77c-5fb7f73166e3",
   "metadata": {},
   "outputs": [
    {
     "name": "stdout",
     "output_type": "stream",
     "text": [
      "Start\n",
      "Hi there!\n",
      "Welcome abroad\n",
      "Finish\n"
     ]
    }
   ],
   "source": [
    "def greet_user():\n",
    "    print('Hi there!')\n",
    "    print('Welcome abroad')\n",
    "print(\"Start\")\n",
    "greet_user()\n",
    "print(\"Finish\")"
   ]
  },
  {
   "cell_type": "code",
   "execution_count": 25,
   "id": "e1a724d9-7e21-42dc-b4b8-40c55edf6a36",
   "metadata": {},
   "outputs": [
    {
     "name": "stdout",
     "output_type": "stream",
     "text": [
      "Start\n",
      "Hi John!\n",
      "Welcome abroad\n",
      "Hi Mary!\n",
      "Welcome abroad\n",
      "Finish\n"
     ]
    }
   ],
   "source": [
    "def greet_user(name):\n",
    "    print(f'Hi {name}!')\n",
    "    print('Welcome abroad')\n",
    "\n",
    "\n",
    "print(\"Start\")\n",
    "greet_user(\"John\")\n",
    "greet_user(\"Mary\")\n",
    "print(\"Finish\")"
   ]
  },
  {
   "cell_type": "code",
   "execution_count": null,
   "id": "255d693d-f4f1-4b3c-b997-a63848adec51",
   "metadata": {},
   "outputs": [],
   "source": []
  },
  {
   "cell_type": "code",
   "execution_count": null,
   "id": "fa94a9bd-d79b-4265-afed-f324db903401",
   "metadata": {},
   "outputs": [],
   "source": [
    "#Generating Random number"
   ]
  },
  {
   "cell_type": "code",
   "execution_count": 27,
   "id": "07fa7937-02a9-40f0-9dbd-d8bc0353f49c",
   "metadata": {},
   "outputs": [
    {
     "name": "stdout",
     "output_type": "stream",
     "text": [
      "0.42560267020255604\n",
      "0.8232137447815364\n",
      "0.15200164773122704\n"
     ]
    }
   ],
   "source": [
    "import random\n",
    "for i in range(3):\n",
    "    print(random.random())"
   ]
  },
  {
   "cell_type": "code",
   "execution_count": 29,
   "id": "b922c79a-53f3-4641-b6cd-29554aba54e8",
   "metadata": {},
   "outputs": [
    {
     "name": "stdout",
     "output_type": "stream",
     "text": [
      "10\n",
      "15\n",
      "10\n"
     ]
    }
   ],
   "source": [
    "import random\n",
    "for i in range(3):\n",
    "    print(random.randint(10, 20))"
   ]
  },
  {
   "cell_type": "code",
   "execution_count": 30,
   "id": "06dec18e-6862-4899-a3d1-2d9e6e80addd",
   "metadata": {},
   "outputs": [
    {
     "name": "stdout",
     "output_type": "stream",
     "text": [
      "Maoom\n"
     ]
    }
   ],
   "source": [
    "import random\n",
    "members = ['Ahsan', 'Tab', 'Taha', 'Maoom', 'Sam']\n",
    "leaders = random.choice(members)\n",
    "print(leaders)"
   ]
  },
  {
   "cell_type": "code",
   "execution_count": 36,
   "id": "24de20f3-dba6-43bc-b892-8628528a4311",
   "metadata": {},
   "outputs": [
    {
     "name": "stdout",
     "output_type": "stream",
     "text": [
      "Sam\n"
     ]
    }
   ],
   "source": [
    "import random\n",
    "members = ['Ahsan', 'Tab', 'Taha', 'Maoom', 'Sam']\n",
    "leaders = random.choice(members)\n",
    "print(leaders)"
   ]
  },
  {
   "cell_type": "code",
   "execution_count": 39,
   "id": "342760f5-eaf5-47d4-b866-9e6c812dc200",
   "metadata": {},
   "outputs": [
    {
     "name": "stdout",
     "output_type": "stream",
     "text": [
      "(1, 4)\n"
     ]
    }
   ],
   "source": [
    "import random\n",
    "class Dice:\n",
    "    def roll(self):\n",
    "        first = random.randint(1,6)\n",
    "        second = random.randint(1,6)\n",
    "        return first, second\n",
    "\n",
    "dice=Dice()\n",
    "print(dice.roll())"
   ]
  },
  {
   "cell_type": "code",
   "execution_count": null,
   "id": "71bf07e5-6964-411d-a2d6-6e7f4ec01754",
   "metadata": {},
   "outputs": [],
   "source": [
    "# File and Directories"
   ]
  },
  {
   "cell_type": "code",
   "execution_count": 40,
   "id": "8d6fd9ff-79d8-4387-9643-4260c72f6d54",
   "metadata": {},
   "outputs": [
    {
     "name": "stdout",
     "output_type": "stream",
     "text": [
      "False\n"
     ]
    }
   ],
   "source": [
    "from pathlib import Path\n",
    "#Absolute path\n",
    "# c:\\Program Files\\Microsoft\n",
    "#Relative path\n",
    "path = Path(\"ecommerce\")\n",
    "print(path.exists())"
   ]
  },
  {
   "cell_type": "code",
   "execution_count": 43,
   "id": "29e3d681-ff89-4df5-8931-4f9a38954196",
   "metadata": {},
   "outputs": [
    {
     "name": "stdout",
     "output_type": "stream",
     "text": [
      "<map object at 0x000001C4C0813370>\n"
     ]
    }
   ],
   "source": [
    "from pathlib import Path\n",
    "#Absolute path\n",
    "# c:\\Program Files\\Microsoft\n",
    "#Relative path\n",
    "path = Path()\n",
    "print(path.glob('*.py'))"
   ]
  },
  {
   "cell_type": "code",
   "execution_count": 45,
   "id": "d418bf45-edcd-497f-aa72-4854ce890fd3",
   "metadata": {},
   "outputs": [],
   "source": [
    "from pathlib import Path\n",
    "#Absolute path\n",
    "# c:\\Program Files\\Microsoft\n",
    "#Relative path\n",
    "path = Path()\n",
    "for file in path.glob('*.txt'):\n",
    "    print(file)"
   ]
  },
  {
   "cell_type": "code",
   "execution_count": null,
   "id": "88f7813b-bc8f-4b56-bbc4-c328fb0139fb",
   "metadata": {},
   "outputs": [],
   "source": [
    "# pypi and pip(Huh?)\n"
   ]
  },
  {
   "cell_type": "code",
   "execution_count": null,
   "id": "d7e14048-2504-4b2f-9013-c414217d3ae4",
   "metadata": {},
   "outputs": [],
   "source": []
  },
  {
   "cell_type": "code",
   "execution_count": null,
   "id": "c12f7b67-05bd-420d-a4fb-1a934e4c0a5d",
   "metadata": {},
   "outputs": [],
   "source": []
  },
  {
   "cell_type": "code",
   "execution_count": null,
   "id": "f0180369-7cd3-43ca-ac79-7b4defaf1490",
   "metadata": {},
   "outputs": [],
   "source": []
  },
  {
   "cell_type": "code",
   "execution_count": null,
   "id": "f584f7e9-6447-411a-84e9-44798f69a4c4",
   "metadata": {},
   "outputs": [],
   "source": []
  },
  {
   "cell_type": "code",
   "execution_count": null,
   "id": "c8faedda-89b6-4c9f-8b00-dc41740f93fa",
   "metadata": {},
   "outputs": [],
   "source": []
  },
  {
   "cell_type": "code",
   "execution_count": null,
   "id": "913b35c6-73c2-4b1f-aaa2-48359ed50540",
   "metadata": {},
   "outputs": [],
   "source": []
  },
  {
   "cell_type": "code",
   "execution_count": null,
   "id": "f6908134-184e-40e1-91ed-c67a423869dd",
   "metadata": {},
   "outputs": [],
   "source": []
  },
  {
   "cell_type": "code",
   "execution_count": null,
   "id": "a088eaa0-7725-47f0-b306-0df367351ddb",
   "metadata": {},
   "outputs": [],
   "source": []
  },
  {
   "cell_type": "code",
   "execution_count": null,
   "id": "d18053b5-9316-4b88-a9db-85a6206390f4",
   "metadata": {},
   "outputs": [],
   "source": []
  },
  {
   "cell_type": "code",
   "execution_count": null,
   "id": "9b4ffd71-b859-4b73-a77c-bd55515473c6",
   "metadata": {},
   "outputs": [],
   "source": []
  },
  {
   "cell_type": "code",
   "execution_count": null,
   "id": "37887cfd-5ea6-472b-8070-b70df51297d1",
   "metadata": {},
   "outputs": [],
   "source": []
  },
  {
   "cell_type": "code",
   "execution_count": null,
   "id": "6ff7d270-b53e-46a4-a8b5-62a3016bacaa",
   "metadata": {},
   "outputs": [],
   "source": []
  },
  {
   "cell_type": "code",
   "execution_count": null,
   "id": "653010a6-6c2e-4b77-9cd9-b017ffff351f",
   "metadata": {},
   "outputs": [],
   "source": []
  },
  {
   "cell_type": "code",
   "execution_count": null,
   "id": "2b4089d4-a11e-4d34-aefd-346b7a6886c9",
   "metadata": {},
   "outputs": [],
   "source": []
  },
  {
   "cell_type": "code",
   "execution_count": null,
   "id": "7454e671-eb53-441d-acb1-1090ddec2306",
   "metadata": {},
   "outputs": [],
   "source": []
  },
  {
   "cell_type": "code",
   "execution_count": null,
   "id": "9159a391-3eee-40ab-8409-71e84b17bfd5",
   "metadata": {},
   "outputs": [],
   "source": []
  },
  {
   "cell_type": "code",
   "execution_count": null,
   "id": "9ca164df-69e2-46e3-8b89-d3f7d4f6f954",
   "metadata": {},
   "outputs": [],
   "source": []
  },
  {
   "cell_type": "code",
   "execution_count": null,
   "id": "e7408b5f-526d-46cf-9e97-a2d02a36a54d",
   "metadata": {},
   "outputs": [],
   "source": []
  },
  {
   "cell_type": "code",
   "execution_count": null,
   "id": "f0ade51b-267b-4083-88f0-7fbabcf3b5b8",
   "metadata": {},
   "outputs": [],
   "source": []
  },
  {
   "cell_type": "code",
   "execution_count": null,
   "id": "677bfb39-eb27-4678-b5c9-95202de90362",
   "metadata": {},
   "outputs": [],
   "source": []
  }
 ],
 "metadata": {
  "kernelspec": {
   "display_name": "Python [conda env:base] *",
   "language": "python",
   "name": "conda-base-py"
  },
  "language_info": {
   "codemirror_mode": {
    "name": "ipython",
    "version": 3
   },
   "file_extension": ".py",
   "mimetype": "text/x-python",
   "name": "python",
   "nbconvert_exporter": "python",
   "pygments_lexer": "ipython3",
   "version": "3.13.5"
  }
 },
 "nbformat": 4,
 "nbformat_minor": 5
}
