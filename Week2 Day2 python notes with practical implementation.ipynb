{
 "cells": [
  {
   "cell_type": "code",
   "execution_count": null,
   "id": "9c39b759-62b1-4c19-b8c1-a704900cdd55",
   "metadata": {},
   "outputs": [],
   "source": [
    "# Introduction to under"
   ]
  },
  {
   "cell_type": "code",
   "execution_count": null,
   "id": "5e2611f7-3739-4e76-8b09-4ee2bab6d2bf",
   "metadata": {},
   "outputs": [],
   "source": [
    "1. integers =====> int\n",
    "2. floats (float) =====> decimals"
   ]
  },
  {
   "cell_type": "code",
   "execution_count": 2,
   "id": "a5c2e1d5-c6b5-421f-8274-b285c3c42203",
   "metadata": {},
   "outputs": [
    {
     "name": "stdout",
     "output_type": "stream",
     "text": [
      "123\n"
     ]
    }
   ],
   "source": [
    "number = 123\n",
    "print(number)"
   ]
  },
  {
   "cell_type": "code",
   "execution_count": 3,
   "id": "3612d08b-46d8-4ae7-8836-330556978e3a",
   "metadata": {},
   "outputs": [
    {
     "data": {
      "text/plain": [
       "int"
      ]
     },
     "execution_count": 3,
     "metadata": {},
     "output_type": "execute_result"
    }
   ],
   "source": [
    "type(number)"
   ]
  },
  {
   "cell_type": "code",
   "execution_count": 4,
   "id": "f1271037-a8a9-4019-9134-d9e9a4772c0b",
   "metadata": {},
   "outputs": [
    {
     "name": "stdout",
     "output_type": "stream",
     "text": [
      "0.2\n"
     ]
    }
   ],
   "source": [
    "number = 0.2\n",
    "print(number)"
   ]
  },
  {
   "cell_type": "code",
   "execution_count": 5,
   "id": "6b6091ce-2dd2-48fe-9cee-50113b11a7da",
   "metadata": {},
   "outputs": [
    {
     "data": {
      "text/plain": [
       "float"
      ]
     },
     "execution_count": 5,
     "metadata": {},
     "output_type": "execute_result"
    }
   ],
   "source": [
    "type(number)"
   ]
  },
  {
   "cell_type": "code",
   "execution_count": null,
   "id": "0d51e7d2-23e5-4c6d-b049-27d439825655",
   "metadata": {},
   "outputs": [],
   "source": [
    "# introduction to list datatype :"
   ]
  },
  {
   "cell_type": "code",
   "execution_count": null,
   "id": "714e3e2c-c128-498f-b815-2144f5b405bb",
   "metadata": {},
   "outputs": [],
   "source": [
    "'''\n",
    "Definition: A list is a collection of items defined in a particular order.\n",
    "classification: It is classified as an mutable data type (flexible/edit/alter)\n",
    "how to declare the list datatype : []\n",
    "'''"
   ]
  },
  {
   "cell_type": "code",
   "execution_count": 7,
   "id": "8bae6517-8c1b-453f-a24f-4ca31ecba38e",
   "metadata": {},
   "outputs": [
    {
     "name": "stdout",
     "output_type": "stream",
     "text": [
      "['sameer', 'Taha', 'Masoom', 'Aashir', 'Tabish', 'Salman']\n"
     ]
    }
   ],
   "source": [
    "students = ['sameer', 'Taha', 'Masoom', 'Aashir', 'Tabish', 'Salman']\n",
    "print(students)"
   ]
  },
  {
   "cell_type": "code",
   "execution_count": 8,
   "id": "ce0fc617-0996-43bd-b7ae-73f8afd67209",
   "metadata": {},
   "outputs": [
    {
     "data": {
      "text/plain": [
       "list"
      ]
     },
     "execution_count": 8,
     "metadata": {},
     "output_type": "execute_result"
    }
   ],
   "source": [
    "type(students)"
   ]
  },
  {
   "cell_type": "code",
   "execution_count": null,
   "id": "ecb94fe1-6b89-4e5a-9c51-19ed7f50e75b",
   "metadata": {},
   "outputs": [],
   "source": [
    "# introduction to indexing: 0,1,2..........."
   ]
  },
  {
   "cell_type": "code",
   "execution_count": null,
   "id": "be97abeb-effd-4a8d-8bb4-197fbe53b4a9",
   "metadata": {},
   "outputs": [],
   "source": [
    "# i want to access taha name in the output"
   ]
  },
  {
   "cell_type": "code",
   "execution_count": 9,
   "id": "284b826b-9d88-426a-9723-4f28b6a3fb53",
   "metadata": {},
   "outputs": [
    {
     "name": "stdout",
     "output_type": "stream",
     "text": [
      "Taha\n"
     ]
    }
   ],
   "source": [
    "print(students[1])"
   ]
  },
  {
   "cell_type": "code",
   "execution_count": 11,
   "id": "7168d711-b012-489e-b407-904d3fe86514",
   "metadata": {},
   "outputs": [
    {
     "name": "stdout",
     "output_type": "stream",
     "text": [
      "Masoom\n"
     ]
    }
   ],
   "source": [
    "print(students[2])"
   ]
  },
  {
   "cell_type": "code",
   "execution_count": 12,
   "id": "951b8ead-f5dc-4264-9d9d-1f3aad7e2014",
   "metadata": {},
   "outputs": [
    {
     "name": "stdout",
     "output_type": "stream",
     "text": [
      "['sameer', 'Taha', 'Masoom', 'Aashir', 'Tabish', 'Salman', 'Irshad']\n"
     ]
    }
   ],
   "source": [
    "students.append('Irshad')\n",
    "print(students)"
   ]
  },
  {
   "cell_type": "code",
   "execution_count": 13,
   "id": "15ead418-79f4-424c-b616-e3a54d027a91",
   "metadata": {},
   "outputs": [
    {
     "name": "stdout",
     "output_type": "stream",
     "text": [
      "['sameer', 'Taha', 'Masoom', 'Aashir', 'Tabish', 'Salman', 'Irshad', 'Abdul']\n"
     ]
    }
   ],
   "source": [
    "students.append('Abdul')\n",
    "print(students)"
   ]
  },
  {
   "cell_type": "code",
   "execution_count": null,
   "id": "988608b2-7ed1-410f-97f6-72961013fced",
   "metadata": {},
   "outputs": [],
   "source": [
    "#adding name inside list"
   ]
  },
  {
   "cell_type": "code",
   "execution_count": 14,
   "id": "42ce4116-f4fb-42b6-805e-c52d8f182cc3",
   "metadata": {},
   "outputs": [
    {
     "name": "stdout",
     "output_type": "stream",
     "text": [
      "['sameer', 'Taha', 'Arman', 'Masoom', 'Aashir', 'Tabish', 'Salman', 'Irshad', 'Abdul']\n"
     ]
    }
   ],
   "source": [
    "students.insert(2, 'Arman')\n",
    "print(students)"
   ]
  },
  {
   "cell_type": "code",
   "execution_count": null,
   "id": "3e83918a-5fec-4b83-a9cd-5b0422c82117",
   "metadata": {},
   "outputs": [],
   "source": [
    "# interview question: can you please tell me the diff b/w append and insert method in the list datatype?"
   ]
  },
  {
   "cell_type": "code",
   "execution_count": null,
   "id": "09c3a47a-e2dc-4b2f-87ff-8d40b7973fef",
   "metadata": {},
   "outputs": [],
   "source": [
    "#Organising the list datatype:"
   ]
  },
  {
   "cell_type": "code",
   "execution_count": null,
   "id": "a80b1c29-b65e-4cc7-a8a0-9520a82e457e",
   "metadata": {},
   "outputs": [],
   "source": [
    "cars = ['kia', 'suzuki', 'benz', 'maruthi', 'audi', 'tayota']"
   ]
  },
  {
   "cell_type": "code",
   "execution_count": null,
   "id": "5283cc29-fec9-4e51-9453-2b72c6883913",
   "metadata": {},
   "outputs": [],
   "source": [
    "# i want to get the list in A-Z order..."
   ]
  },
  {
   "cell_type": "code",
   "execution_count": null,
   "id": "53ebb76d-0f46-4207-adbb-842be9769b60",
   "metadata": {},
   "outputs": [],
   "source": [
    "'''\n",
    "here we have two approaches:\n",
    "    1. temp approach: original list order will be maintained ====> sorted\n",
    "    2. Permanent approach: only the organised list will be there ====> changes will be applied permanently.==> sort\n",
    "'''"
   ]
  },
  {
   "cell_type": "code",
   "execution_count": 17,
   "id": "bdd0115e-98fe-46ea-9bef-4b2d79e0e0db",
   "metadata": {},
   "outputs": [
    {
     "name": "stdout",
     "output_type": "stream",
     "text": [
      "['audi', 'benz', 'kia', 'maruthi', 'suzuki', 'tayota']\n"
     ]
    }
   ],
   "source": [
    "cars = ['kia', 'suzuki', 'benz', 'maruthi', 'audi', 'tayota']\n",
    "print(sorted(cars))"
   ]
  },
  {
   "cell_type": "code",
   "execution_count": 18,
   "id": "18cd0abe-56b1-4401-91bd-eb6cb857aa70",
   "metadata": {},
   "outputs": [
    {
     "name": "stdout",
     "output_type": "stream",
     "text": [
      "['kia', 'suzuki', 'benz', 'maruthi', 'audi', 'tayota']\n"
     ]
    }
   ],
   "source": [
    "print(cars)"
   ]
  },
  {
   "cell_type": "code",
   "execution_count": 19,
   "id": "df38382b-07d2-467c-8b29-9a09ec6c5d87",
   "metadata": {},
   "outputs": [
    {
     "name": "stdout",
     "output_type": "stream",
     "text": [
      "['audi', 'benz', 'kia', 'maruthi', 'suzuki', 'tayota']\n"
     ]
    }
   ],
   "source": [
    "cars.sort()\n",
    "print(cars)"
   ]
  },
  {
   "cell_type": "code",
   "execution_count": 20,
   "id": "c8e76bcc-a7cb-4f5b-ba38-e171add8301d",
   "metadata": {},
   "outputs": [
    {
     "name": "stdout",
     "output_type": "stream",
     "text": [
      "['audi', 'benz', 'kia', 'maruthi', 'suzuki', 'tayota']\n"
     ]
    }
   ],
   "source": [
    "print(cars)"
   ]
  },
  {
   "cell_type": "code",
   "execution_count": null,
   "id": "89dfeb15-2e26-4e48-8200-938faca07ce6",
   "metadata": {},
   "outputs": [],
   "source": []
  },
  {
   "cell_type": "code",
   "execution_count": null,
   "id": "cccb170a-9f3e-4ef9-a7a1-df351ffff3fd",
   "metadata": {},
   "outputs": [],
   "source": []
  },
  {
   "cell_type": "code",
   "execution_count": null,
   "id": "0dedcdf4-4393-491f-82e3-e192f4b48df4",
   "metadata": {},
   "outputs": [],
   "source": []
  },
  {
   "cell_type": "code",
   "execution_count": null,
   "id": "07cf1d04-6ed4-48fa-af6a-6f7295ef6b8f",
   "metadata": {},
   "outputs": [],
   "source": []
  },
  {
   "cell_type": "code",
   "execution_count": null,
   "id": "43e81ea2-b0a2-4f50-b0fc-95fa212f0f91",
   "metadata": {},
   "outputs": [],
   "source": []
  },
  {
   "cell_type": "code",
   "execution_count": null,
   "id": "843a0079-8878-4aaa-9e40-7f31e7839899",
   "metadata": {},
   "outputs": [],
   "source": []
  },
  {
   "cell_type": "code",
   "execution_count": null,
   "id": "4a56d8bd-f2fb-4795-af70-72ad970d76ac",
   "metadata": {},
   "outputs": [],
   "source": []
  },
  {
   "cell_type": "code",
   "execution_count": null,
   "id": "e5fcfcf4-964c-4d50-a272-5491572117c1",
   "metadata": {},
   "outputs": [],
   "source": []
  },
  {
   "cell_type": "code",
   "execution_count": null,
   "id": "b2bf4b4a-f0fc-40dc-bf31-4969edfdf369",
   "metadata": {},
   "outputs": [],
   "source": []
  },
  {
   "cell_type": "code",
   "execution_count": null,
   "id": "83cc21d6-f136-4be8-adbd-3230712fda29",
   "metadata": {},
   "outputs": [],
   "source": []
  },
  {
   "cell_type": "code",
   "execution_count": null,
   "id": "98a6a465-ba10-4c6a-88cc-95c9dc83d890",
   "metadata": {},
   "outputs": [],
   "source": []
  },
  {
   "cell_type": "code",
   "execution_count": null,
   "id": "47ed5e22-28b4-4a4c-b776-e4ae89a808bc",
   "metadata": {},
   "outputs": [],
   "source": []
  },
  {
   "cell_type": "code",
   "execution_count": null,
   "id": "ca6ba950-f7a9-4837-a4fc-0737ea750aa2",
   "metadata": {},
   "outputs": [],
   "source": []
  },
  {
   "cell_type": "code",
   "execution_count": null,
   "id": "e5509728-2931-4967-8688-857374c9f096",
   "metadata": {},
   "outputs": [],
   "source": []
  },
  {
   "cell_type": "code",
   "execution_count": null,
   "id": "c37da06d-9d80-443e-8951-3635697c3113",
   "metadata": {},
   "outputs": [],
   "source": []
  },
  {
   "cell_type": "code",
   "execution_count": null,
   "id": "015bdac7-7ddb-47b3-9b3e-cf0c010296e5",
   "metadata": {},
   "outputs": [],
   "source": []
  },
  {
   "cell_type": "code",
   "execution_count": null,
   "id": "1e2e9e5e-ef5d-4852-ab1b-1a7af3200525",
   "metadata": {},
   "outputs": [],
   "source": []
  },
  {
   "cell_type": "code",
   "execution_count": null,
   "id": "05f9a059-f998-46fa-8ee6-3b3043f02038",
   "metadata": {},
   "outputs": [],
   "source": []
  },
  {
   "cell_type": "code",
   "execution_count": null,
   "id": "315eda77-317d-4d33-86b4-21b24acd6ff3",
   "metadata": {},
   "outputs": [],
   "source": []
  },
  {
   "cell_type": "code",
   "execution_count": null,
   "id": "d3a089e2-004a-4620-82fc-551e0ea24c71",
   "metadata": {},
   "outputs": [],
   "source": []
  },
  {
   "cell_type": "code",
   "execution_count": null,
   "id": "b6853cc5-e68e-445c-876a-4602b7b20090",
   "metadata": {},
   "outputs": [],
   "source": []
  },
  {
   "cell_type": "code",
   "execution_count": null,
   "id": "41c3770e-a175-45df-b932-f8844e5c3252",
   "metadata": {},
   "outputs": [],
   "source": []
  },
  {
   "cell_type": "code",
   "execution_count": null,
   "id": "7203f9a6-2b21-41d3-86d4-7ca5e97061ea",
   "metadata": {},
   "outputs": [],
   "source": []
  },
  {
   "cell_type": "code",
   "execution_count": null,
   "id": "264e3bca-8d9a-48d0-8fc6-52d49c2f168a",
   "metadata": {},
   "outputs": [],
   "source": []
  },
  {
   "cell_type": "code",
   "execution_count": null,
   "id": "e50631c2-cecc-49da-b747-301ca51ce74a",
   "metadata": {},
   "outputs": [],
   "source": []
  },
  {
   "cell_type": "code",
   "execution_count": null,
   "id": "5ca48ffe-75de-4c82-a073-6182f7aa5b69",
   "metadata": {},
   "outputs": [],
   "source": []
  },
  {
   "cell_type": "code",
   "execution_count": null,
   "id": "686f84c4-dfb7-43fc-adb0-9e0fa64742e2",
   "metadata": {},
   "outputs": [],
   "source": []
  },
  {
   "cell_type": "code",
   "execution_count": null,
   "id": "2602146e-332c-4f87-8e56-5a761e547530",
   "metadata": {},
   "outputs": [],
   "source": []
  },
  {
   "cell_type": "code",
   "execution_count": null,
   "id": "e8998d89-c21f-4d2c-a491-4a855e96e25d",
   "metadata": {},
   "outputs": [],
   "source": []
  },
  {
   "cell_type": "code",
   "execution_count": null,
   "id": "70ef661f-1a1d-4430-8f50-380bfea6a3e9",
   "metadata": {},
   "outputs": [],
   "source": []
  },
  {
   "cell_type": "code",
   "execution_count": null,
   "id": "8618cc3d-33e5-4ec7-a55f-5d1d841b3311",
   "metadata": {},
   "outputs": [],
   "source": []
  },
  {
   "cell_type": "code",
   "execution_count": null,
   "id": "6804d5ab-0d60-4251-bd4e-c1192910399c",
   "metadata": {},
   "outputs": [],
   "source": []
  },
  {
   "cell_type": "code",
   "execution_count": null,
   "id": "cec4e474-3c34-4f70-8847-9b610452987c",
   "metadata": {},
   "outputs": [],
   "source": []
  },
  {
   "cell_type": "code",
   "execution_count": null,
   "id": "fc31647d-8a76-4d41-a633-323c2daae058",
   "metadata": {},
   "outputs": [],
   "source": []
  },
  {
   "cell_type": "code",
   "execution_count": null,
   "id": "84211655-321d-4f3d-b1ad-35d7fcb15936",
   "metadata": {},
   "outputs": [],
   "source": []
  },
  {
   "cell_type": "code",
   "execution_count": null,
   "id": "7ba34e3b-323a-4eab-95d0-cc860903f98a",
   "metadata": {},
   "outputs": [],
   "source": []
  },
  {
   "cell_type": "code",
   "execution_count": null,
   "id": "4c972d5e-b4e0-4643-9f1d-eba9b95e9a0c",
   "metadata": {},
   "outputs": [],
   "source": []
  },
  {
   "cell_type": "code",
   "execution_count": null,
   "id": "05e3cce4-1421-4d59-8b81-fcb99767be64",
   "metadata": {},
   "outputs": [],
   "source": []
  },
  {
   "cell_type": "code",
   "execution_count": null,
   "id": "0b88ceda-7cc1-480a-bf98-fecf10fa3f38",
   "metadata": {},
   "outputs": [],
   "source": []
  },
  {
   "cell_type": "code",
   "execution_count": null,
   "id": "abc06bcd-6ce2-4176-89c2-0794e857ac1a",
   "metadata": {},
   "outputs": [],
   "source": []
  },
  {
   "cell_type": "code",
   "execution_count": null,
   "id": "5b5ea19a-c274-4be0-9eb1-3aa6c0d90e27",
   "metadata": {},
   "outputs": [],
   "source": []
  },
  {
   "cell_type": "code",
   "execution_count": null,
   "id": "27e86875-7799-4f33-8b52-dee180e2993e",
   "metadata": {},
   "outputs": [],
   "source": []
  },
  {
   "cell_type": "code",
   "execution_count": null,
   "id": "dcad848e-956f-4063-bace-1d58a1dd2d42",
   "metadata": {},
   "outputs": [],
   "source": []
  }
 ],
 "metadata": {
  "kernelspec": {
   "display_name": "Python [conda env:base] *",
   "language": "python",
   "name": "conda-base-py"
  },
  "language_info": {
   "codemirror_mode": {
    "name": "ipython",
    "version": 3
   },
   "file_extension": ".py",
   "mimetype": "text/x-python",
   "name": "python",
   "nbconvert_exporter": "python",
   "pygments_lexer": "ipython3",
   "version": "3.13.5"
  }
 },
 "nbformat": 4,
 "nbformat_minor": 5
}
