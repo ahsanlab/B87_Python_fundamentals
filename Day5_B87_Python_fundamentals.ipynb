{
 "cells": [
  {
   "cell_type": "code",
   "execution_count": null,
   "id": "7f513114-6be8-484f-85c4-b99ba8d95881",
   "metadata": {},
   "outputs": [],
   "source": [
    "#Continue of List"
   ]
  },
  {
   "cell_type": "code",
   "execution_count": 1,
   "id": "f2a3cbc7-5646-4a10-817a-60e75a4a3dad",
   "metadata": {},
   "outputs": [
    {
     "name": "stdout",
     "output_type": "stream",
     "text": [
      "{'ravi', 'tabishtaha', 'ahsan', 'kishan', 'shafi', 'kaleem'}\n"
     ]
    }
   ],
   "source": [
    "list={'ravi', 'kishan', 'shafi', 'kaleem', 'ahsan', 'tabish' 'taha'}\n",
    "print(list)"
   ]
  },
  {
   "cell_type": "code",
   "execution_count": 2,
   "id": "7a7d7026-2472-4765-bac2-0c3c55e1c99d",
   "metadata": {},
   "outputs": [
    {
     "data": {
      "text/plain": [
       "set"
      ]
     },
     "execution_count": 2,
     "metadata": {},
     "output_type": "execute_result"
    }
   ],
   "source": [
    "type(list)"
   ]
  },
  {
   "cell_type": "code",
   "execution_count": 3,
   "id": "4af3b641-1139-40b3-9f3c-b9906ee4bd02",
   "metadata": {},
   "outputs": [
    {
     "name": "stdout",
     "output_type": "stream",
     "text": [
      "['ravi', 'kishan', 'shafi', 'kaleem', 'ahsan', 'tabish', 'taha']\n"
     ]
    }
   ],
   "source": [
    "l=['ravi', 'kishan', 'shafi', 'kaleem', 'ahsan', 'tabish', 'taha']\n",
    "print(l)"
   ]
  },
  {
   "cell_type": "code",
   "execution_count": 4,
   "id": "6cee9f11-71d2-49ad-a4ce-b4d705491962",
   "metadata": {},
   "outputs": [
    {
     "data": {
      "text/plain": [
       "list"
      ]
     },
     "execution_count": 4,
     "metadata": {},
     "output_type": "execute_result"
    }
   ],
   "source": [
    "type(l)"
   ]
  },
  {
   "cell_type": "code",
   "execution_count": 5,
   "id": "703c7d8c-768b-4f14-a5fe-35f6aa17ab70",
   "metadata": {},
   "outputs": [
    {
     "name": "stdout",
     "output_type": "stream",
     "text": [
      "kishan\n"
     ]
    }
   ],
   "source": [
    "print(l[1])"
   ]
  },
  {
   "cell_type": "code",
   "execution_count": 6,
   "id": "6ffd5d01-cfaa-4679-a11c-9e3babdf4a76",
   "metadata": {},
   "outputs": [
    {
     "name": "stdout",
     "output_type": "stream",
     "text": [
      "ahsan\n"
     ]
    }
   ],
   "source": [
    "print(l[4])"
   ]
  },
  {
   "cell_type": "code",
   "execution_count": 7,
   "id": "5c6e0efc-7136-4951-9ac3-bc9c551b915f",
   "metadata": {},
   "outputs": [
    {
     "name": "stdout",
     "output_type": "stream",
     "text": [
      "ravi\n",
      "kishan\n",
      "shafi\n",
      "kaleem\n",
      "ahsan\n",
      "tabish\n",
      "taha\n"
     ]
    }
   ],
   "source": [
    "for x in l:\n",
    "    print(x)"
   ]
  },
  {
   "cell_type": "code",
   "execution_count": 8,
   "id": "aca2395a-f9b1-4ca7-b024-238e849601cd",
   "metadata": {},
   "outputs": [
    {
     "name": "stdout",
     "output_type": "stream",
     "text": [
      "['ravi', 'kishan', 'shafi', 'kaleem', 'ahsan', 'tabish', 'taha']\n"
     ]
    }
   ],
   "source": [
    "print(l)"
   ]
  },
  {
   "cell_type": "code",
   "execution_count": 10,
   "id": "c4c1ee32-301f-4dc1-a514-5bc1b1a7b266",
   "metadata": {},
   "outputs": [
    {
     "name": "stdout",
     "output_type": "stream",
     "text": [
      "['kishan', 'shafi', 'kaleem']\n"
     ]
    }
   ],
   "source": [
    "print(l[1:4])"
   ]
  },
  {
   "cell_type": "code",
   "execution_count": 11,
   "id": "b1445b4e-e38d-4822-ae73-2a645ff55521",
   "metadata": {},
   "outputs": [
    {
     "name": "stdout",
     "output_type": "stream",
     "text": [
      "['shafi', 'kaleem', 'ahsan', 'tabish', 'taha']\n"
     ]
    }
   ],
   "source": [
    "print(l[2:])"
   ]
  },
  {
   "cell_type": "code",
   "execution_count": 12,
   "id": "ef7959e2-364b-4c54-a028-31805049b537",
   "metadata": {},
   "outputs": [
    {
     "name": "stdout",
     "output_type": "stream",
     "text": [
      "['ravi', 'kishan', 'shafi', 'kaleem', 'ahsan', 'tabish', 'taha']\n"
     ]
    }
   ],
   "source": [
    "print(l[:])"
   ]
  },
  {
   "cell_type": "code",
   "execution_count": 13,
   "id": "4a9494d3-5e56-4f0c-901f-9ba031f70a8c",
   "metadata": {},
   "outputs": [
    {
     "name": "stdout",
     "output_type": "stream",
     "text": [
      "['ravi', 'shafi', 'ahsan', 'taha']\n"
     ]
    }
   ],
   "source": [
    "print(l[0:7:2])"
   ]
  },
  {
   "cell_type": "code",
   "execution_count": 16,
   "id": "08bd2180-c4fd-40da-a859-1aa46d741ccf",
   "metadata": {},
   "outputs": [
    {
     "name": "stdout",
     "output_type": "stream",
     "text": [
      "['kishan', 'shafi', 'kaleem', 'ahsan', 'tabish', 'taha']\n"
     ]
    }
   ],
   "source": [
    "print(l[1::1])"
   ]
  },
  {
   "cell_type": "code",
   "execution_count": 17,
   "id": "641e2916-a488-4509-8056-c37be97fa0cd",
   "metadata": {},
   "outputs": [
    {
     "name": "stdout",
     "output_type": "stream",
     "text": [
      "['kishan', 'kaleem', 'tabish']\n"
     ]
    }
   ],
   "source": [
    "print(l[1::2])"
   ]
  },
  {
   "cell_type": "code",
   "execution_count": 18,
   "id": "5fb739ec-e646-4182-bd8d-5072479eb0ac",
   "metadata": {},
   "outputs": [
    {
     "name": "stdout",
     "output_type": "stream",
     "text": [
      "ahsan\n"
     ]
    }
   ],
   "source": [
    "print(l[-3])"
   ]
  },
  {
   "cell_type": "code",
   "execution_count": 19,
   "id": "7e60a957-1822-4554-a464-5d44e53f6234",
   "metadata": {},
   "outputs": [
    {
     "name": "stdout",
     "output_type": "stream",
     "text": [
      "['ravi', 'kishan', 'shafi', 'kaleem', 'ahsan']\n"
     ]
    }
   ],
   "source": [
    "print(l[:-2])"
   ]
  },
  {
   "cell_type": "code",
   "execution_count": null,
   "id": "aacf3a98-6ed5-4c66-9f01-196ebf0583f8",
   "metadata": {},
   "outputs": [],
   "source": [
    "# Introduction to Tuple"
   ]
  },
  {
   "cell_type": "code",
   "execution_count": 20,
   "id": "24330c2a-11f9-438b-859d-df0178b7c9c9",
   "metadata": {},
   "outputs": [
    {
     "name": "stdout",
     "output_type": "stream",
     "text": [
      "('red', 'green', 'blue', 'yellow', 'purple', 'white', 'black')\n"
     ]
    }
   ],
   "source": [
    "colors = ('red', 'green', 'blue', 'yellow', 'purple', 'white', 'black')\n",
    "print(colors)"
   ]
  },
  {
   "cell_type": "code",
   "execution_count": 21,
   "id": "28a13b40-3f23-4d39-8dbe-7225981d9c8c",
   "metadata": {},
   "outputs": [
    {
     "name": "stdout",
     "output_type": "stream",
     "text": [
      "red\n"
     ]
    }
   ],
   "source": [
    "print(colors[0])"
   ]
  },
  {
   "cell_type": "raw",
   "id": "5f7ea70c-76b1-4e33-a218-4b31a1861814",
   "metadata": {},
   "source": []
  },
  {
   "cell_type": "code",
   "execution_count": 22,
   "id": "f253365d-1d1f-453f-b2d1-05443697068a",
   "metadata": {},
   "outputs": [
    {
     "name": "stdout",
     "output_type": "stream",
     "text": [
      "black\n"
     ]
    }
   ],
   "source": [
    "print(colors[-1])"
   ]
  },
  {
   "cell_type": "code",
   "execution_count": null,
   "id": "61b1fbb7-315b-4909-9fc5-647936e54498",
   "metadata": {},
   "outputs": [],
   "source": [
    "print(colors[0:2])"
   ]
  },
  {
   "cell_type": "code",
   "execution_count": null,
   "id": "788fde84-bbd2-47b2-a469-8f0260778345",
   "metadata": {},
   "outputs": [],
   "source": []
  },
  {
   "cell_type": "code",
   "execution_count": null,
   "id": "7fdb1840-742b-43c7-a98c-019bb5dc382a",
   "metadata": {},
   "outputs": [],
   "source": []
  },
  {
   "cell_type": "code",
   "execution_count": null,
   "id": "43fb9ffe-cbca-4626-bac9-92c626dce169",
   "metadata": {},
   "outputs": [],
   "source": []
  },
  {
   "cell_type": "code",
   "execution_count": null,
   "id": "13cade0c-27ef-4009-a306-16d86fc7d7d3",
   "metadata": {},
   "outputs": [],
   "source": []
  }
 ],
 "metadata": {
  "kernelspec": {
   "display_name": "Python [conda env:base] *",
   "language": "python",
   "name": "conda-base-py"
  },
  "language_info": {
   "codemirror_mode": {
    "name": "ipython",
    "version": 3
   },
   "file_extension": ".py",
   "mimetype": "text/x-python",
   "name": "python",
   "nbconvert_exporter": "python",
   "pygments_lexer": "ipython3",
   "version": "3.13.5"
  }
 },
 "nbformat": 4,
 "nbformat_minor": 5
}
