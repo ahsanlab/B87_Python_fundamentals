{
 "cells": [
  {
   "cell_type": "code",
   "execution_count": null,
   "id": "fcb1d734-992c-4ed1-ac90-67d67925cfd7",
   "metadata": {},
   "outputs": [],
   "source": [
    "#Introduction to Python function"
   ]
  },
  {
   "cell_type": "code",
   "execution_count": 1,
   "id": "b9b5524d-b155-4e36-aebf-de8de0478fe9",
   "metadata": {},
   "outputs": [
    {
     "name": "stdout",
     "output_type": "stream",
     "text": [
      "Hello\n"
     ]
    }
   ],
   "source": [
    "def greet():\n",
    "    print(\"Hello\")\n",
    "greet()"
   ]
  },
  {
   "cell_type": "code",
   "execution_count": 2,
   "id": "45e8786c-bc92-46b5-826f-154c40fef48c",
   "metadata": {},
   "outputs": [
    {
     "name": "stdout",
     "output_type": "stream",
     "text": [
      "Hello\n"
     ]
    }
   ],
   "source": [
    "greet()"
   ]
  },
  {
   "cell_type": "code",
   "execution_count": 3,
   "id": "63c197f5-91cb-4780-9cdb-ec27cd5a3f15",
   "metadata": {},
   "outputs": [
    {
     "name": "stdout",
     "output_type": "stream",
     "text": [
      "Hello\n"
     ]
    }
   ],
   "source": [
    "def greet_user():\n",
    "    print(\"Hello\")\n",
    "greet_user()"
   ]
  },
  {
   "cell_type": "code",
   "execution_count": 4,
   "id": "954db6b1-295a-4374-8bc8-ba671b2a5481",
   "metadata": {},
   "outputs": [
    {
     "name": "stdout",
     "output_type": "stream",
     "text": [
      "Hello, Ahsan\n"
     ]
    }
   ],
   "source": [
    "def greet_user(username):\n",
    "    print(f\"Hello, {username.title()}\")\n",
    "greet_user(\"Ahsan\")"
   ]
  },
  {
   "cell_type": "code",
   "execution_count": 6,
   "id": "1dd35482-1d77-4f50-91ff-187c4f8d77b9",
   "metadata": {},
   "outputs": [
    {
     "name": "stdout",
     "output_type": "stream",
     "text": [
      "Hello, Arshad\n"
     ]
    }
   ],
   "source": [
    "greet_user(\"Arshad\")"
   ]
  },
  {
   "cell_type": "code",
   "execution_count": 8,
   "id": "848229a9-3034-40dc-8a1a-2bec4159f46b",
   "metadata": {},
   "outputs": [
    {
     "name": "stdout",
     "output_type": "stream",
     "text": [
      "\n",
      " I have a dog\n",
      " my dog's name is bruno\n"
     ]
    }
   ],
   "source": [
    "def describe_pet(animal_type, pet_name):\n",
    "    print(f\"\\n I have a {animal_type}\")\n",
    "    print(f\" my {animal_type}'s name is {pet_name}\")\n",
    "describe_pet('dog', 'bruno')"
   ]
  },
  {
   "cell_type": "raw",
   "id": "3fa5cdcc-a686-4bbe-bc2b-4897fb640ea5",
   "metadata": {},
   "source": [
    "describe_pet('cat', 'rex')"
   ]
  },
  {
   "cell_type": "code",
   "execution_count": 9,
   "id": "9944c3d2-e70c-45bb-a2e3-2673d1295063",
   "metadata": {},
   "outputs": [
    {
     "name": "stdout",
     "output_type": "stream",
     "text": [
      "\n",
      " I have a cat\n",
      " my cat's name is rex\n"
     ]
    }
   ],
   "source": [
    "describe_pet('cat', 'rex')"
   ]
  },
  {
   "cell_type": "code",
   "execution_count": 10,
   "id": "9a8073ba-3d12-499e-abd9-2270796132cd",
   "metadata": {},
   "outputs": [
    {
     "name": "stdout",
     "output_type": "stream",
     "text": [
      "\n",
      " I have a sweety\n",
      " my sweety's name is parrot\n"
     ]
    }
   ],
   "source": [
    "describe_pet('sweety', 'parrot')"
   ]
  },
  {
   "cell_type": "code",
   "execution_count": null,
   "id": "16c14ce6-ab96-4865-ae24-decb18888fa1",
   "metadata": {},
   "outputs": [],
   "source": []
  },
  {
   "cell_type": "code",
   "execution_count": 11,
   "id": "ca4a2d4c-c74c-42a2-8339-86c5c482cbf1",
   "metadata": {},
   "outputs": [
    {
     "name": "stdout",
     "output_type": "stream",
     "text": [
      "\n",
      " I have a parrot\n",
      " my parrot's name is sweety\n"
     ]
    }
   ],
   "source": [
    "describe_pet('parrot', 'sweety')"
   ]
  },
  {
   "cell_type": "code",
   "execution_count": null,
   "id": "f2682969-5633-45a0-9efa-a1255d900553",
   "metadata": {},
   "outputs": [],
   "source": []
  },
  {
   "cell_type": "code",
   "execution_count": null,
   "id": "7e4b5aee-720d-4ef2-b7e0-2f86577d3c1c",
   "metadata": {},
   "outputs": [],
   "source": []
  },
  {
   "cell_type": "code",
   "execution_count": null,
   "id": "80b27cdb-463d-41bf-b991-0ba1592556de",
   "metadata": {},
   "outputs": [],
   "source": []
  },
  {
   "cell_type": "code",
   "execution_count": null,
   "id": "57b279c5-41c4-414d-81a2-46b69a8819f1",
   "metadata": {},
   "outputs": [],
   "source": []
  },
  {
   "cell_type": "code",
   "execution_count": null,
   "id": "a324f98a-82d4-42d5-95e2-41dac68ecfa8",
   "metadata": {},
   "outputs": [],
   "source": []
  },
  {
   "cell_type": "code",
   "execution_count": null,
   "id": "50b81619-9adf-4c00-ac93-38627546467a",
   "metadata": {},
   "outputs": [],
   "source": []
  },
  {
   "cell_type": "code",
   "execution_count": null,
   "id": "783d6398-b6ce-4ac9-ab5b-eea779c5b31d",
   "metadata": {},
   "outputs": [],
   "source": []
  },
  {
   "cell_type": "code",
   "execution_count": null,
   "id": "5fc05276-f61a-4afb-ada5-f2d94c9fb499",
   "metadata": {},
   "outputs": [],
   "source": []
  },
  {
   "cell_type": "code",
   "execution_count": null,
   "id": "60cf4a41-3ea1-49bd-84ad-820fa85e942c",
   "metadata": {},
   "outputs": [],
   "source": []
  },
  {
   "cell_type": "code",
   "execution_count": null,
   "id": "d44387ce-adce-49a1-8db9-33e895b92128",
   "metadata": {},
   "outputs": [],
   "source": []
  },
  {
   "cell_type": "code",
   "execution_count": null,
   "id": "6e45fa49-fb4b-42eb-8e42-ce439d2507a4",
   "metadata": {},
   "outputs": [],
   "source": []
  },
  {
   "cell_type": "code",
   "execution_count": null,
   "id": "635a4771-deff-4f41-a14e-bde2748edda4",
   "metadata": {},
   "outputs": [],
   "source": []
  },
  {
   "cell_type": "code",
   "execution_count": null,
   "id": "eb0acaf9-a111-43b4-bcff-ccad40368530",
   "metadata": {},
   "outputs": [],
   "source": []
  },
  {
   "cell_type": "code",
   "execution_count": null,
   "id": "83b0fff9-122c-48c6-bcd2-e5c2b51bc570",
   "metadata": {},
   "outputs": [],
   "source": []
  },
  {
   "cell_type": "code",
   "execution_count": null,
   "id": "b684127f-26cf-4825-857e-c9a0fc3164c1",
   "metadata": {},
   "outputs": [],
   "source": []
  },
  {
   "cell_type": "code",
   "execution_count": null,
   "id": "e5fcadb1-2556-4846-80b4-21311f750404",
   "metadata": {},
   "outputs": [],
   "source": []
  },
  {
   "cell_type": "code",
   "execution_count": null,
   "id": "76149937-2df2-4e57-bbe8-67864756d9da",
   "metadata": {},
   "outputs": [],
   "source": []
  },
  {
   "cell_type": "code",
   "execution_count": null,
   "id": "f66adac7-6a4f-49da-bc2b-2dae9dd86fee",
   "metadata": {},
   "outputs": [],
   "source": []
  },
  {
   "cell_type": "code",
   "execution_count": null,
   "id": "4a14af5f-8a28-4f79-817d-651abb06c2fc",
   "metadata": {},
   "outputs": [],
   "source": []
  },
  {
   "cell_type": "code",
   "execution_count": null,
   "id": "8d86433e-394c-4d64-a7fd-d00d8299f37b",
   "metadata": {},
   "outputs": [],
   "source": []
  },
  {
   "cell_type": "code",
   "execution_count": null,
   "id": "70134bd9-fb68-4046-b599-13a10d742ccc",
   "metadata": {},
   "outputs": [],
   "source": []
  },
  {
   "cell_type": "code",
   "execution_count": null,
   "id": "4424f234-ff5c-44fb-863e-64239a750ef7",
   "metadata": {},
   "outputs": [],
   "source": []
  },
  {
   "cell_type": "code",
   "execution_count": null,
   "id": "84e6d52c-eb9b-4f90-bc14-4b3eb6b0920e",
   "metadata": {},
   "outputs": [],
   "source": []
  }
 ],
 "metadata": {
  "kernelspec": {
   "display_name": "Python [conda env:base] *",
   "language": "python",
   "name": "conda-base-py"
  },
  "language_info": {
   "codemirror_mode": {
    "name": "ipython",
    "version": 3
   },
   "file_extension": ".py",
   "mimetype": "text/x-python",
   "name": "python",
   "nbconvert_exporter": "python",
   "pygments_lexer": "ipython3",
   "version": "3.13.5"
  }
 },
 "nbformat": 4,
 "nbformat_minor": 5
}
