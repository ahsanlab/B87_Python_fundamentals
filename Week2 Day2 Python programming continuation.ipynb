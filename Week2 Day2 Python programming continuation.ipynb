{
 "cells": [
  {
   "cell_type": "code",
   "execution_count": null,
   "id": "99595b09-39a1-4642-84a6-6425d8bbd4b5",
   "metadata": {},
   "outputs": [],
   "source": [
    "# How can you use for loop to repeat the same statement over and again"
   ]
  },
  {
   "cell_type": "code",
   "execution_count": 2,
   "id": "093079dd-cc89-4464-b768-7a6d67be6296",
   "metadata": {},
   "outputs": [
    {
     "name": "stdout",
     "output_type": "stream",
     "text": [
      "AhsanLAb 1\n",
      "AhsanLAb 2\n",
      "AhsanLAb 3\n"
     ]
    }
   ],
   "source": [
    "for i in '123':\n",
    "    print(\"AhsanLAb\", i)\n"
   ]
  },
  {
   "cell_type": "code",
   "execution_count": null,
   "id": "928e8ea2-dc18-42ee-928c-d02306bf33d9",
   "metadata": {},
   "outputs": [],
   "source": [
    "# Example of Dictionary"
   ]
  },
  {
   "cell_type": "code",
   "execution_count": 3,
   "id": "cb6e7613-f743-4c95-a571-a5d5a26b98ec",
   "metadata": {},
   "outputs": [
    {
     "name": "stdout",
     "output_type": "stream",
     "text": [
      "22\n"
     ]
    }
   ],
   "source": [
    "Dict = {'Tim': 18, 'Charlie':12, 'Tiffany': 22, 'Robert': 25}\n",
    "print((Dict['Tiffany']))"
   ]
  },
  {
   "cell_type": "code",
   "execution_count": null,
   "id": "ef51f8fb-5dcf-44bb-bdc8-5540e4734ae1",
   "metadata": {},
   "outputs": [],
   "source": [
    "# How can you copy the entire dictionary to a new dictionary"
   ]
  },
  {
   "cell_type": "code",
   "execution_count": 4,
   "id": "cd4d8d87-65c4-4389-b489-13650c0f828d",
   "metadata": {},
   "outputs": [
    {
     "name": "stdout",
     "output_type": "stream",
     "text": [
      "{'Tim': 18, 'Charlie': 12, 'Robert': 25}\n",
      "{'Tiffany': 22}\n"
     ]
    }
   ],
   "source": [
    "Dict = {'Tim': 18, 'Charlie':12, 'Tiffany': 22, 'Robert': 25}\n",
    "Boys = {'Tim': 18, 'Charlie':12, 'Robert': 25}\n",
    "Girls = {'Tiffany':22}\n",
    "studentX = Boys.copy()\n",
    "studentY = Girls.copy()\n",
    "print(studentX)\n",
    "print(studentY)"
   ]
  },
  {
   "cell_type": "code",
   "execution_count": null,
   "id": "c343b4a5-54b3-41e3-ab1a-9e9c16367742",
   "metadata": {},
   "outputs": [],
   "source": [
    "# How can you update python Dictionary"
   ]
  },
  {
   "cell_type": "code",
   "execution_count": 5,
   "id": "5b18443e-f676-48c7-9fd3-2b08ba1890ee",
   "metadata": {},
   "outputs": [
    {
     "name": "stdout",
     "output_type": "stream",
     "text": [
      "{'Tim': 18, 'Charlie': 12, 'Tiffany': 22, 'Robert': 25, 'Sarah': 9}\n"
     ]
    }
   ],
   "source": [
    "Dict = {'Tim': 18, 'Charlie':12, 'Tiffany': 22, 'Robert': 25}\n",
    "Dict.update({'Sarah':9})\n",
    "print(Dict)"
   ]
  },
  {
   "cell_type": "code",
   "execution_count": null,
   "id": "95b63125-87c3-4c1d-9c8f-f3f83a2ba824",
   "metadata": {},
   "outputs": [],
   "source": [
    "#Give example of dictionary items() method"
   ]
  },
  {
   "cell_type": "code",
   "execution_count": 6,
   "id": "52768fb2-390e-45a8-b977-65443e600834",
   "metadata": {},
   "outputs": [
    {
     "name": "stdout",
     "output_type": "stream",
     "text": [
      "Students Name: [('Tim', 18), ('Charlie', 12), ('Tiffany', 22), ('Robert', 25)]\n"
     ]
    }
   ],
   "source": [
    "Dict = {'Tim': 18, 'Charlie':12, 'Tiffany': 22, 'Robert': 25}\n",
    "print(\"Students Name: %s\" % list(Dict.items()))"
   ]
  },
  {
   "cell_type": "code",
   "execution_count": null,
   "id": "4202a7db-d038-402e-be58-a627ad1f769b",
   "metadata": {},
   "outputs": [],
   "source": [
    "# How can you sort elements in python dictionary"
   ]
  },
  {
   "cell_type": "code",
   "execution_count": 7,
   "id": "751e7c9b-f42a-4199-9780-7057030ba384",
   "metadata": {},
   "outputs": [
    {
     "name": "stdout",
     "output_type": "stream",
     "text": [
      "Charlie:12\n",
      "Robert:25\n",
      "Tiffany:22\n",
      "Tim:18\n"
     ]
    }
   ],
   "source": [
    "Dict = {'Tim': 18, 'Charlie':12, 'Tiffany': 22, 'Robert': 25}\n",
    "Boys = {'Tim': 18, 'Charlie':12, 'Robert': 25}\n",
    "Girls = {'Tiffany': 22}\n",
    "\n",
    "Students = list(Dict.keys())\n",
    "Students.sort()\n",
    "for S in Students:\n",
    "    print(\":\".join((S, str(Dict[S]))))"
   ]
  },
  {
   "cell_type": "code",
   "execution_count": null,
   "id": "44241947-0b0d-4c68-8c78-cbd1628e6f53",
   "metadata": {},
   "outputs": [],
   "source": [
    "# Example of Dictionary len() and python List cmp() method"
   ]
  },
  {
   "cell_type": "code",
   "execution_count": 9,
   "id": "ea90885d-08f5-427e-a84f-36ca49a195b2",
   "metadata": {},
   "outputs": [
    {
     "name": "stdout",
     "output_type": "stream",
     "text": [
      "Length : 4\n"
     ]
    }
   ],
   "source": [
    "# Dictionary len() Example:\n",
    "Dict = {'Tim': 18, 'Charlie':12, 'Tiffany': 22, 'Robert': 25}\n",
    "print(\"Length : %d\" % len(Dict))"
   ]
  },
  {
   "cell_type": "code",
   "execution_count": 16,
   "id": "2c1b9a87-b370-41d8-8d96-e91bafc5a882",
   "metadata": {},
   "outputs": [
    {
     "name": "stdout",
     "output_type": "stream",
     "text": [
      "False\n"
     ]
    }
   ],
   "source": [
    "# cmp(Example: //removed in python 3\n",
    "Boys = {'Tim': 18, 'Charlie':12, 'Robert': 25}\n",
    "Girls = {'Tiffany': 22}\n",
    "print(Girls == Boys)"
   ]
  },
  {
   "cell_type": "code",
   "execution_count": null,
   "id": "33c1879d-fb83-4861-b9ce-2aab4a1d3bcf",
   "metadata": {},
   "outputs": [],
   "source": [
    "#Arithmetic operators:"
   ]
  },
  {
   "cell_type": "code",
   "execution_count": 17,
   "id": "1f0bdbd4-4733-4a05-bd7c-b7afc229b7d4",
   "metadata": {},
   "outputs": [
    {
     "name": "stdout",
     "output_type": "stream",
     "text": [
      "9\n"
     ]
    }
   ],
   "source": [
    "x=4\n",
    "y=5\n",
    "print(x+y)"
   ]
  },
  {
   "cell_type": "code",
   "execution_count": 18,
   "id": "f2262d8a-4b70-4728-bf76-80debaa0d5a4",
   "metadata": {},
   "outputs": [
    {
     "name": "stdout",
     "output_type": "stream",
     "text": [
      "('a and b is', False)\n",
      "('a or b is', True)\n",
      "('not a is', False)\n"
     ]
    }
   ],
   "source": [
    "#Example of logical operators:\n",
    "a=True\n",
    "b=False\n",
    "print(('a and b is', a and b))\n",
    "print(('a or b is', a or  b))\n",
    "print(('not a is', not a))"
   ]
  },
  {
   "cell_type": "code",
   "execution_count": 19,
   "id": "77f39db8-9c9a-467f-bfe4-99455c7cbc89",
   "metadata": {},
   "outputs": [
    {
     "name": "stdout",
     "output_type": "stream",
     "text": [
      "Line 1 - x is available in the given list\n",
      "Line 2 - y is not available in the given list\n"
     ]
    }
   ],
   "source": [
    "# membership  operators( IN, NOT IN)\n",
    "x=4\n",
    "y=8\n",
    "list = [1,2,3,4,5]\n",
    "if(x in list):\n",
    "    print('Line 1 - x is available in the given list')\n",
    "else:\n",
    "    print('Line 1 - x is not available in the given list')\n",
    "if(y not in list):\n",
    "    print('Line 2 - y is not available in the given list')\n",
    "else:\n",
    "    print('Line 2 - y is available in the given list')"
   ]
  },
  {
   "cell_type": "code",
   "execution_count": 22,
   "id": "c4915f01-a19e-4640-ba83-429c6982c370",
   "metadata": {},
   "outputs": [
    {
     "name": "stdout",
     "output_type": "stream",
     "text": [
      "Value of (v+w) * x/y is  36.0\n"
     ]
    }
   ],
   "source": [
    "# Code to demonstrate operator precedence in python\n",
    "v=4\n",
    "w=5\n",
    "x=8\n",
    "y=2\n",
    "z=0\n",
    "z=(v+w) * x/y;\n",
    "print(\"Value of (v+w) * x/y is \", z)"
   ]
  },
  {
   "cell_type": "code",
   "execution_count": 23,
   "id": "f4681614-fcf6-494b-9cb1-06368dc7460e",
   "metadata": {},
   "outputs": [
    {
     "name": "stdout",
     "output_type": "stream",
     "text": [
      "200\n"
     ]
    }
   ],
   "source": [
    "# How can you access array element>\n",
    "import array\n",
    "balance = array.array('i', [300, 200, 100])\n",
    "print(balance[1])"
   ]
  },
  {
   "cell_type": "code",
   "execution_count": 24,
   "id": "e6ca75ab-e980-4e23-826c-c79cda19610a",
   "metadata": {},
   "outputs": [
    {
     "name": "stdout",
     "output_type": "stream",
     "text": [
      "array('i', [300, 200, 150, 100])\n"
     ]
    }
   ],
   "source": [
    "# How can you insert element in array\n",
    "import array\n",
    "balance = array.array('i', [300,200,100])\n",
    "balance.insert(2, 150)\n",
    "print(balance)"
   ]
  },
  {
   "cell_type": "code",
   "execution_count": 26,
   "id": "67615c4f-f3fc-438a-be0e-e061ef83fca8",
   "metadata": {},
   "outputs": [
    {
     "name": "stdout",
     "output_type": "stream",
     "text": [
      "array('b', [2, 4])\n"
     ]
    }
   ],
   "source": [
    "#How can you delete elements in array\n",
    "import array as myarray\n",
    "first = myarray.array('b', [2,3,4])\n",
    "first.remove(3)\n",
    "print(first)"
   ]
  },
  {
   "cell_type": "code",
   "execution_count": 27,
   "id": "d07b59ee-dab8-4ced-9ab1-155744960ed6",
   "metadata": {},
   "outputs": [
    {
     "name": "stdout",
     "output_type": "stream",
     "text": [
      "1\n"
     ]
    }
   ],
   "source": [
    "# How can you search and get the index of a value in an array\n",
    "import array as myarray\n",
    "number = myarray.array('b', [2,3,4,5,6])\n",
    "print(number.index(3))"
   ]
  },
  {
   "cell_type": "code",
   "execution_count": 28,
   "id": "fe0d014c-1148-4046-ad50-fced0c86491d",
   "metadata": {},
   "outputs": [
    {
     "name": "stdout",
     "output_type": "stream",
     "text": [
      "array('b', [3, 2, 1])\n"
     ]
    }
   ],
   "source": [
    "# H0w can you reverse array in python\n",
    "import array as myarray\n",
    "number = myarray.array('b', [1,2,3])\n",
    "number.reverse()\n",
    "print(number)"
   ]
  },
  {
   "cell_type": "code",
   "execution_count": 29,
   "id": "5175d472-8689-47dc-a400-3775dbd3dd28",
   "metadata": {},
   "outputs": [
    {
     "name": "stdout",
     "output_type": "stream",
     "text": [
      "array('u', 'PYTHON')\n",
      "PYTHON\n"
     ]
    },
    {
     "name": "stderr",
     "output_type": "stream",
     "text": [
      "C:\\Users\\Dell\\AppData\\Local\\Temp\\ipykernel_12120\\2885564442.py:3: DeprecationWarning: The 'u' type code is deprecated and will be removed in Python 3.16\n",
      "  p = array('u', [u'\\u0050', u'\\u0059', u'\\u0054', u'\\u0048', u'\\u004F', u'\\u004E'])\n"
     ]
    }
   ],
   "source": [
    "# Give example to convert array to unicode\n",
    "from array import array\n",
    "p = array('u', [u'\\u0050', u'\\u0059', u'\\u0054', u'\\u0048', u'\\u004F', u'\\u004E'])\n",
    "print(p)\n",
    "q=p.tounicode()\n",
    "print(q)"
   ]
  },
  {
   "cell_type": "code",
   "execution_count": null,
   "id": "0dd41f61-47e7-47f1-b3d6-84f0324239f4",
   "metadata": {},
   "outputs": [],
   "source": []
  },
  {
   "cell_type": "code",
   "execution_count": null,
   "id": "e12b163c-d86a-48f5-83a4-d38025eead0b",
   "metadata": {},
   "outputs": [],
   "source": []
  },
  {
   "cell_type": "code",
   "execution_count": null,
   "id": "2cdeea58-e8dc-4775-b319-4662a672d274",
   "metadata": {},
   "outputs": [],
   "source": []
  },
  {
   "cell_type": "code",
   "execution_count": null,
   "id": "1435879e-9f3e-42a3-8a6a-5427c43b98e1",
   "metadata": {},
   "outputs": [],
   "source": []
  },
  {
   "cell_type": "code",
   "execution_count": null,
   "id": "0b6cfff0-655a-4af1-9040-6795b8293216",
   "metadata": {},
   "outputs": [],
   "source": []
  },
  {
   "cell_type": "code",
   "execution_count": null,
   "id": "799b59f3-ce3c-48ba-ab59-dc8818725c2a",
   "metadata": {},
   "outputs": [],
   "source": []
  },
  {
   "cell_type": "code",
   "execution_count": null,
   "id": "6a518676-1474-4623-bd16-6ea6a3c2409a",
   "metadata": {},
   "outputs": [],
   "source": []
  },
  {
   "cell_type": "code",
   "execution_count": null,
   "id": "e633579f-30d6-4d69-af15-b9bd358dd264",
   "metadata": {},
   "outputs": [],
   "source": []
  },
  {
   "cell_type": "code",
   "execution_count": null,
   "id": "ea5db2ac-c45c-4754-ad5e-03feef050dbf",
   "metadata": {},
   "outputs": [],
   "source": []
  },
  {
   "cell_type": "code",
   "execution_count": null,
   "id": "87afd011-0600-4d51-81b1-734dcab52f7c",
   "metadata": {},
   "outputs": [],
   "source": []
  },
  {
   "cell_type": "code",
   "execution_count": null,
   "id": "28c3d446-934b-409f-bb7a-171e7e1bf2b1",
   "metadata": {},
   "outputs": [],
   "source": []
  },
  {
   "cell_type": "code",
   "execution_count": null,
   "id": "9b13ee1b-c5d5-400b-a3d0-2716d05909d7",
   "metadata": {},
   "outputs": [],
   "source": []
  },
  {
   "cell_type": "code",
   "execution_count": null,
   "id": "3b7e2811-337d-4953-bdad-690751a31383",
   "metadata": {},
   "outputs": [],
   "source": []
  },
  {
   "cell_type": "code",
   "execution_count": null,
   "id": "234b0fdb-8693-46ef-85c9-f337bc03d4a9",
   "metadata": {},
   "outputs": [],
   "source": []
  },
  {
   "cell_type": "code",
   "execution_count": null,
   "id": "fe471b20-8750-41b4-88ef-24b5cb66a20d",
   "metadata": {},
   "outputs": [],
   "source": []
  },
  {
   "cell_type": "code",
   "execution_count": null,
   "id": "72e4d1e8-f23c-48c2-a648-ba6e42055fa9",
   "metadata": {},
   "outputs": [],
   "source": []
  },
  {
   "cell_type": "code",
   "execution_count": null,
   "id": "9207c44c-9ffc-4772-b286-9e3d3098b274",
   "metadata": {},
   "outputs": [],
   "source": []
  },
  {
   "cell_type": "code",
   "execution_count": null,
   "id": "91812a55-ac3e-465f-a3b0-bceeadc9b4e8",
   "metadata": {},
   "outputs": [],
   "source": []
  },
  {
   "cell_type": "code",
   "execution_count": null,
   "id": "d8be947d-878e-4a5e-8fb0-10fc5dcf9e46",
   "metadata": {},
   "outputs": [],
   "source": []
  },
  {
   "cell_type": "code",
   "execution_count": null,
   "id": "6f30736e-2c2d-4f80-a64d-887bc40b8e7a",
   "metadata": {},
   "outputs": [],
   "source": []
  },
  {
   "cell_type": "code",
   "execution_count": null,
   "id": "e389f96d-f916-41b2-a99a-3e24b04efd53",
   "metadata": {},
   "outputs": [],
   "source": []
  },
  {
   "cell_type": "code",
   "execution_count": null,
   "id": "f6acacb6-55e5-449d-992f-9fbc3506aeca",
   "metadata": {},
   "outputs": [],
   "source": []
  },
  {
   "cell_type": "code",
   "execution_count": null,
   "id": "097402f3-ac0b-4bc2-b60a-b8d59778b2bd",
   "metadata": {},
   "outputs": [],
   "source": []
  },
  {
   "cell_type": "code",
   "execution_count": null,
   "id": "d4d1eb5a-090a-472a-b144-89fca5ecd256",
   "metadata": {},
   "outputs": [],
   "source": []
  },
  {
   "cell_type": "code",
   "execution_count": null,
   "id": "958d6065-6c24-4a14-ab9c-4c75625187d8",
   "metadata": {},
   "outputs": [],
   "source": []
  },
  {
   "cell_type": "code",
   "execution_count": null,
   "id": "5ade1470-a334-4b6d-b817-7adc20c49260",
   "metadata": {},
   "outputs": [],
   "source": []
  },
  {
   "cell_type": "code",
   "execution_count": null,
   "id": "300b7976-c99d-48bf-b9f6-02d7fa0aae19",
   "metadata": {},
   "outputs": [],
   "source": []
  },
  {
   "cell_type": "code",
   "execution_count": null,
   "id": "4af0ae52-6bbe-486c-86ab-a2dd04b05421",
   "metadata": {},
   "outputs": [],
   "source": []
  },
  {
   "cell_type": "code",
   "execution_count": null,
   "id": "40142e9b-4c0f-4263-ab38-ad065d271c07",
   "metadata": {},
   "outputs": [],
   "source": []
  },
  {
   "cell_type": "code",
   "execution_count": null,
   "id": "70a20095-1e4f-4b9f-b090-f2a7b28c3b8c",
   "metadata": {},
   "outputs": [],
   "source": []
  },
  {
   "cell_type": "code",
   "execution_count": null,
   "id": "f746261a-bc24-48e6-948c-7c7f289bcbee",
   "metadata": {},
   "outputs": [],
   "source": []
  },
  {
   "cell_type": "code",
   "execution_count": null,
   "id": "6c72feb2-457c-4680-9428-07396f79cd03",
   "metadata": {},
   "outputs": [],
   "source": []
  },
  {
   "cell_type": "code",
   "execution_count": null,
   "id": "9193c4c8-aec7-4fe1-8110-bbf6350f87f0",
   "metadata": {},
   "outputs": [],
   "source": []
  },
  {
   "cell_type": "code",
   "execution_count": null,
   "id": "020b68e9-c287-4d00-b458-e5c0497ec5ec",
   "metadata": {},
   "outputs": [],
   "source": []
  },
  {
   "cell_type": "code",
   "execution_count": null,
   "id": "0232c27b-aa4b-494d-ace6-9ce1a74537f7",
   "metadata": {},
   "outputs": [],
   "source": []
  },
  {
   "cell_type": "code",
   "execution_count": null,
   "id": "179452aa-f5c1-4f8a-bc7b-46cc98900b2e",
   "metadata": {},
   "outputs": [],
   "source": []
  },
  {
   "cell_type": "code",
   "execution_count": null,
   "id": "633e20d8-d61b-4fee-9145-ed2444a30f45",
   "metadata": {},
   "outputs": [],
   "source": []
  },
  {
   "cell_type": "code",
   "execution_count": null,
   "id": "b8f3b9dc-14de-4c77-9325-0cd0fa85d195",
   "metadata": {},
   "outputs": [],
   "source": []
  },
  {
   "cell_type": "code",
   "execution_count": null,
   "id": "9f2030c8-0c48-4e46-820b-1bc7e91d12cb",
   "metadata": {},
   "outputs": [],
   "source": []
  },
  {
   "cell_type": "code",
   "execution_count": null,
   "id": "bc2f235b-d3b4-4528-8be3-5b7d417d2a6f",
   "metadata": {},
   "outputs": [],
   "source": []
  },
  {
   "cell_type": "code",
   "execution_count": null,
   "id": "795f67ba-2123-4f35-82c9-b01d5a7346c9",
   "metadata": {},
   "outputs": [],
   "source": []
  }
 ],
 "metadata": {
  "kernelspec": {
   "display_name": "Python [conda env:base] *",
   "language": "python",
   "name": "conda-base-py"
  },
  "language_info": {
   "codemirror_mode": {
    "name": "ipython",
    "version": 3
   },
   "file_extension": ".py",
   "mimetype": "text/x-python",
   "name": "python",
   "nbconvert_exporter": "python",
   "pygments_lexer": "ipython3",
   "version": "3.13.5"
  }
 },
 "nbformat": 4,
 "nbformat_minor": 5
}
